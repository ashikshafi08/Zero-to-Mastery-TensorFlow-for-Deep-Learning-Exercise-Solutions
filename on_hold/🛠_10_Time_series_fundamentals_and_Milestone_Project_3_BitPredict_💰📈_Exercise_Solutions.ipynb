{
  "nbformat": 4,
  "nbformat_minor": 0,
  "metadata": {
    "colab": {
      "name": "🛠_10. Time series fundamentals and Milestone Project 3: BitPredict 💰📈 Exercise Solutions.ipynb",
      "provenance": [],
      "collapsed_sections": [],
      "authorship_tag": "ABX9TyNKXjnNYFm0bffuUaT/GyGd",
      "include_colab_link": true
    },
    "kernelspec": {
      "name": "python3",
      "display_name": "Python 3"
    },
    "language_info": {
      "name": "python"
    }
  },
  "cells": [
    {
      "cell_type": "markdown",
      "metadata": {
        "id": "view-in-github",
        "colab_type": "text"
      },
      "source": [
        "<a href=\"https://colab.research.google.com/github/ashikshafi08/Zero-to-Mastery-TensorFlow-for-Deep-Learning-Exercise-Solutions/blob/main/on_hold/%F0%9F%9B%A0_10_Time_series_fundamentals_and_Milestone_Project_3_BitPredict_%F0%9F%92%B0%F0%9F%93%88_Exercise_Solutions.ipynb\" target=\"_parent\"><img src=\"https://colab.research.google.com/assets/colab-badge.svg\" alt=\"Open In Colab\"/></a>"
      ]
    },
    {
      "cell_type": "markdown",
      "metadata": {
        "id": "n9BhPZ1Tx4bm"
      },
      "source": [
        "# 🛠 10. Time series fundamentals and Milestone Project 3: BitPredict 💰📈 Exercise Solutions \n",
        "\n",
        "1. Does scaling the data help for univariate/multivariate data? (e.g. getting all of the values between 0 & 1)\n",
        "    * Try doing this for a univariate model (e.g. model_1) and a multivariate model (e.g. model_6) and see if it effects model training or evaluation results.\n",
        "2. Get the most up to date data on Bitcoin, train a model & see how it goes (our data goes up to May 18 2021).\n",
        "    * You can download the Bitcoin historical data for free from  [coindesk.com/price/bitcoin](https://www.coindesk.com/price/bitcoin)  and clicking “Export Data” -> “CSV”.\n",
        "3. For most of our models we used WINDOW_SIZE=7, but is there a better window size?\n",
        "    * Setup a series of experiments to find whether or not there’s a better window size.\n",
        "    * For example, you might train 10 different models with HORIZON=1 but with window sizes ranging from 2-12.\n",
        "4. Create a windowed dataset just like the ones we used for model_1 using  [tf.keras.preprocessing.timeseries_dataset_from_array()](https://www.tensorflow.org/api_docs/python/tf/keras/preprocessing/timeseries_dataset_from_array)  and retrain model_1 using the recreated dataset.\n",
        "5. For our multivariate modelling experiment, we added the Bitcoin block reward size as an extra feature to make our time series multivariate.\n",
        "    * Are there any other features you think you could add?\n",
        "    * If so, try it out, how do these affect the model?\n",
        "6. Make prediction intervals for future forecasts. To do so, one way would be to train an ensemble model on all of the data, make future forecasts with it and calculate the prediction intervals of the ensemble just like we did for model_8.\n",
        "7. For future predictions, try to make a prediction, retrain a model on the predictions, make a prediction, retrain a model, make a prediction, retrain a model, make a prediction (retrain a model each time a new prediction is made). Plot the results, how do they look compared to the future predictions where a model wasn’t retrained for every forecast (model_9)?\n",
        "8. Throughout this notebook, we’ve only tried algorithms we’ve handcrafted ourselves. But it’s worth seeing how a purpose built forecasting algorithm goes.\n",
        "    * Try out one of the extra algorithms listed in the modelling experiments part such as:\n",
        "\t*  [Facebook’s Kats library](https://github.com/facebookresearch/Kats)  - there are many models in here, remember the machine learning practioner’s motto: experiment, experiment, experiment.\n",
        "\t*  [LinkedIn’s Greykite library](https://github.com/linkedin/greykite) \n"
      ]
    },
    {
      "cell_type": "markdown",
      "metadata": {
        "id": "VT9614RIyCCl"
      },
      "source": [
        "## Downloading the data and preprocessing it "
      ]
    },
    {
      "cell_type": "code",
      "metadata": {
        "colab": {
          "base_uri": "https://localhost:8080/",
          "height": 422
        },
        "id": "aZe0Y63IyQgT",
        "outputId": "5bb35957-c85f-40fd-9484-1a1a5ece2b66"
      },
      "source": [
        "# Download Bitcoin historical data from GitHub \n",
        "!wget https://raw.githubusercontent.com/mrdbourke/tensorflow-deep-learning/main/extras/BTC_USD_2013-10-01_2021-05-18-CoinDesk.csv\n",
        "\n",
        "# Import with pandas \n",
        "import pandas as pd\n",
        "df = pd.read_csv(\"/content/BTC_USD_2013-10-01_2021-05-18-CoinDesk.csv\", \n",
        "                 parse_dates=[\"Date\"], \n",
        "                 index_col=[\"Date\"]) # parse the date column (tell pandas column 1 is a datetime)\n",
        "df.head()"
      ],
      "execution_count": 128,
      "outputs": [
        {
          "output_type": "stream",
          "name": "stdout",
          "text": [
            "--2021-09-12 15:20:32--  https://raw.githubusercontent.com/mrdbourke/tensorflow-deep-learning/main/extras/BTC_USD_2013-10-01_2021-05-18-CoinDesk.csv\n",
            "Resolving raw.githubusercontent.com (raw.githubusercontent.com)... 185.199.108.133, 185.199.109.133, 185.199.110.133, ...\n",
            "Connecting to raw.githubusercontent.com (raw.githubusercontent.com)|185.199.108.133|:443... connected.\n",
            "HTTP request sent, awaiting response... 200 OK\n",
            "Length: 178509 (174K) [text/plain]\n",
            "Saving to: ‘BTC_USD_2013-10-01_2021-05-18-CoinDesk.csv.1’\n",
            "\n",
            "\r          BTC_USD_2   0%[                    ]       0  --.-KB/s               \rBTC_USD_2013-10-01_ 100%[===================>] 174.33K  --.-KB/s    in 0.02s   \n",
            "\n",
            "2021-09-12 15:20:32 (9.09 MB/s) - ‘BTC_USD_2013-10-01_2021-05-18-CoinDesk.csv.1’ saved [178509/178509]\n",
            "\n"
          ]
        },
        {
          "output_type": "execute_result",
          "data": {
            "text/html": [
              "<div>\n",
              "<style scoped>\n",
              "    .dataframe tbody tr th:only-of-type {\n",
              "        vertical-align: middle;\n",
              "    }\n",
              "\n",
              "    .dataframe tbody tr th {\n",
              "        vertical-align: top;\n",
              "    }\n",
              "\n",
              "    .dataframe thead th {\n",
              "        text-align: right;\n",
              "    }\n",
              "</style>\n",
              "<table border=\"1\" class=\"dataframe\">\n",
              "  <thead>\n",
              "    <tr style=\"text-align: right;\">\n",
              "      <th></th>\n",
              "      <th>Currency</th>\n",
              "      <th>Closing Price (USD)</th>\n",
              "      <th>24h Open (USD)</th>\n",
              "      <th>24h High (USD)</th>\n",
              "      <th>24h Low (USD)</th>\n",
              "    </tr>\n",
              "    <tr>\n",
              "      <th>Date</th>\n",
              "      <th></th>\n",
              "      <th></th>\n",
              "      <th></th>\n",
              "      <th></th>\n",
              "      <th></th>\n",
              "    </tr>\n",
              "  </thead>\n",
              "  <tbody>\n",
              "    <tr>\n",
              "      <th>2013-10-01</th>\n",
              "      <td>BTC</td>\n",
              "      <td>123.65499</td>\n",
              "      <td>124.30466</td>\n",
              "      <td>124.75166</td>\n",
              "      <td>122.56349</td>\n",
              "    </tr>\n",
              "    <tr>\n",
              "      <th>2013-10-02</th>\n",
              "      <td>BTC</td>\n",
              "      <td>125.45500</td>\n",
              "      <td>123.65499</td>\n",
              "      <td>125.75850</td>\n",
              "      <td>123.63383</td>\n",
              "    </tr>\n",
              "    <tr>\n",
              "      <th>2013-10-03</th>\n",
              "      <td>BTC</td>\n",
              "      <td>108.58483</td>\n",
              "      <td>125.45500</td>\n",
              "      <td>125.66566</td>\n",
              "      <td>83.32833</td>\n",
              "    </tr>\n",
              "    <tr>\n",
              "      <th>2013-10-04</th>\n",
              "      <td>BTC</td>\n",
              "      <td>118.67466</td>\n",
              "      <td>108.58483</td>\n",
              "      <td>118.67500</td>\n",
              "      <td>107.05816</td>\n",
              "    </tr>\n",
              "    <tr>\n",
              "      <th>2013-10-05</th>\n",
              "      <td>BTC</td>\n",
              "      <td>121.33866</td>\n",
              "      <td>118.67466</td>\n",
              "      <td>121.93633</td>\n",
              "      <td>118.00566</td>\n",
              "    </tr>\n",
              "  </tbody>\n",
              "</table>\n",
              "</div>"
            ],
            "text/plain": [
              "           Currency  Closing Price (USD)  ...  24h High (USD)  24h Low (USD)\n",
              "Date                                      ...                               \n",
              "2013-10-01      BTC            123.65499  ...       124.75166      122.56349\n",
              "2013-10-02      BTC            125.45500  ...       125.75850      123.63383\n",
              "2013-10-03      BTC            108.58483  ...       125.66566       83.32833\n",
              "2013-10-04      BTC            118.67466  ...       118.67500      107.05816\n",
              "2013-10-05      BTC            121.33866  ...       121.93633      118.00566\n",
              "\n",
              "[5 rows x 5 columns]"
            ]
          },
          "metadata": {},
          "execution_count": 128
        }
      ]
    },
    {
      "cell_type": "code",
      "metadata": {
        "colab": {
          "base_uri": "https://localhost:8080/"
        },
        "id": "1LQW1xGSyYDv",
        "outputId": "565e1a8e-dea8-4c52-e12c-6bc672ff420b"
      },
      "source": [
        "# Only want closing price for each day \n",
        "bitcoin_prices = pd.DataFrame(df[\"Closing Price (USD)\"]).rename(columns={\"Closing Price (USD)\": \"Price\"})\n",
        "bitcoin_prices.head() , bitcoin_prices.shape"
      ],
      "execution_count": 129,
      "outputs": [
        {
          "output_type": "execute_result",
          "data": {
            "text/plain": [
              "(                Price\n",
              " Date                 \n",
              " 2013-10-01  123.65499\n",
              " 2013-10-02  125.45500\n",
              " 2013-10-03  108.58483\n",
              " 2013-10-04  118.67466\n",
              " 2013-10-05  121.33866, (2787, 1))"
            ]
          },
          "metadata": {},
          "execution_count": 129
        }
      ]
    },
    {
      "cell_type": "code",
      "metadata": {
        "id": "gIlIWPTWD6z_"
      },
      "source": [
        "# Get the data in array \n",
        "import numpy as np\n",
        "import tensorflow as tf \n",
        "from tensorflow.keras import layers\n",
        "\n",
        "timesteps = bitcoin_prices.index.to_numpy()\n",
        "prices = bitcoin_prices['Price'].to_numpy()\n",
        "\n",
        "# Instantiating the sklearn MinMaxScaler\n",
        "from sklearn.preprocessing import MinMaxScaler\n",
        "\n",
        "scaler = MinMaxScaler() "
      ],
      "execution_count": 130,
      "outputs": []
    },
    {
      "cell_type": "code",
      "metadata": {
        "id": "7eynNXXID68q"
      },
      "source": [
        "# Create function to view NumPy arrays as windows \n",
        "\n",
        "def get_labelled_windows(x , horizon):\n",
        "  return x[:, :-horizon] ,x[: , -horizon:]\n",
        "\n",
        "\n",
        "def make_windows_scaled(x, window_size=7, horizon=1):\n",
        "  \"\"\"\n",
        "  Turns a 1D array into a 2D array of sequential windows of window_size. Also applies the standard scaler\n",
        "  \"\"\"\n",
        "  scaler.fit(np.expand_dims(x , axis =1))\n",
        "  scaled_x = scaler.transform(np.expand_dims(x , axis = 1))\n",
        "  scaled_x = np.squeeze(scaled_x)\n",
        "  \n",
        "  window_step = np.expand_dims(np.arange(window_size+horizon), axis=0)\n",
        "  window_indexes = window_step + np.expand_dims(np.arange(len(scaled_x)-(window_size+horizon-1)), axis=0).T # create 2D array of windows of size window_size\n",
        "  windowed_array = scaled_x[window_indexes]\n",
        "  windows, labels = get_labelled_windows(windowed_array, horizon=horizon)\n",
        "\n",
        "  return windows, labels\n",
        "\n",
        "\n",
        "# Make the splits \n",
        "def make_train_test_splits(windows , labels , test_split = 0.2):\n",
        "  split_size = int(len(windows) * (1 - test_split))\n",
        "  train_windows = windows[:split_size]\n",
        "  train_labels = labels[:split_size]\n",
        "  test_windows = windows[split_size:]\n",
        "  test_labels = labels[split_size:]\n",
        "\n",
        "  return train_windows ,  test_windows ,train_labels,  test_labels"
      ],
      "execution_count": 131,
      "outputs": []
    },
    {
      "cell_type": "markdown",
      "metadata": {
        "id": "7dItohLM1Ozr"
      },
      "source": [
        "### 1. Does scaling the data help for univariate/multivariate data? (e.g. getting all of the values between 0 & 1)\n",
        "* Try doing this for a univariate model (e.g. model_1) and a multivariate model (e.g. model_6) and see if it effects model training or evaluation results."
      ]
    },
    {
      "cell_type": "code",
      "metadata": {
        "colab": {
          "base_uri": "https://localhost:8080/"
        },
        "id": "9S-J_3Tkzfto",
        "outputId": "88ef995c-74ca-4a88-823f-4b58987807fc"
      },
      "source": [
        "# Model 1 (Horizon = 1 , Window_size = 7)\n",
        "HORIZON = 1 \n",
        "WINDOW_SIZE = 7 \n",
        "\n",
        "\n",
        "full_windows , full_labels = make_windows_scaled(prices , window_size = WINDOW_SIZE , horizon = HORIZON)\n",
        "full_windows.shape , full_labels.shape"
      ],
      "execution_count": 132,
      "outputs": [
        {
          "output_type": "execute_result",
          "data": {
            "text/plain": [
              "((2780, 7), (2780, 1))"
            ]
          },
          "metadata": {},
          "execution_count": 132
        }
      ]
    },
    {
      "cell_type": "code",
      "metadata": {
        "colab": {
          "base_uri": "https://localhost:8080/"
        },
        "id": "TL8e6Iz9NOUX",
        "outputId": "d36152c1-f15d-4af8-afab-ed2ffbb1ecf7"
      },
      "source": [
        "# Looking at few examples of how price is scaled\n",
        "for i in range(3):\n",
        "  print(f'Window: {full_windows[i]} --> Label {full_labels[i]}')"
      ],
      "execution_count": 133,
      "outputs": [
        {
          "output_type": "stream",
          "name": "stdout",
          "text": [
            "Window: [0.00023831 0.00026677 0.         0.00015955 0.00020168 0.00019087\n",
            " 0.0002089 ] --> Label [0.00022847]\n",
            "Window: [0.00026677 0.         0.00015955 0.00020168 0.00019087 0.0002089\n",
            " 0.00022847] --> Label [0.00024454]\n",
            "Window: [0.         0.00015955 0.00020168 0.00019087 0.0002089  0.00022847\n",
            " 0.00024454] --> Label [0.00027478]\n"
          ]
        }
      ]
    },
    {
      "cell_type": "code",
      "metadata": {
        "colab": {
          "base_uri": "https://localhost:8080/"
        },
        "id": "mmHd26QZFZDU",
        "outputId": "e9c6aa09-13f1-4cf7-853f-58b83d5a5fe0"
      },
      "source": [
        "# Making train and test splits \n",
        "train_windows , test_windows , train_labels , test_labels = make_train_test_splits(full_windows , full_labels)\n",
        "len(train_windows), len(test_windows), len(train_labels), len(test_labels)"
      ],
      "execution_count": 134,
      "outputs": [
        {
          "output_type": "execute_result",
          "data": {
            "text/plain": [
              "(2224, 556, 2224, 556)"
            ]
          },
          "metadata": {},
          "execution_count": 134
        }
      ]
    },
    {
      "cell_type": "code",
      "metadata": {
        "id": "A2dT3_hqyejt",
        "colab": {
          "base_uri": "https://localhost:8080/"
        },
        "outputId": "b63e599b-10c2-4675-9823-cadf72b14f99"
      },
      "source": [
        "# Building the Model 1 \n",
        "tf.random.set_seed(42)\n",
        "\n",
        "# Construct the model \n",
        "model_1 = tf.keras.Sequential([\n",
        "  layers.Dense(128, activation= 'relu') ,\n",
        "  layers.Dense(HORIZON , activation = 'linear')\n",
        "])\n",
        "\n",
        "# Compiling the model \n",
        "model_1.compile(loss = 'mae' , \n",
        "                optimizer = tf.keras.optimizers.Adam() , \n",
        "                metrics = ['mae'])\n",
        "\n",
        "# Fit the model \n",
        "model_1.fit(x = train_windows , \n",
        "            y = train_labels , \n",
        "            epochs = 100 , batch_size = 128 , verbose = 0 , \n",
        "            validation_data = (test_windows , test_labels))"
      ],
      "execution_count": 135,
      "outputs": [
        {
          "output_type": "execute_result",
          "data": {
            "text/plain": [
              "<keras.callbacks.History at 0x7f5111ae13d0>"
            ]
          },
          "metadata": {},
          "execution_count": 135
        }
      ]
    },
    {
      "cell_type": "code",
      "metadata": {
        "id": "2MwuA2gI0t2B",
        "colab": {
          "base_uri": "https://localhost:8080/"
        },
        "outputId": "89319dad-15b1-48f3-dbca-81d4072daafe"
      },
      "source": [
        "# Evaluate the model on test data \n",
        "model_1.evaluate(test_windows , test_labels)"
      ],
      "execution_count": 136,
      "outputs": [
        {
          "output_type": "stream",
          "name": "stdout",
          "text": [
            "18/18 [==============================] - 0s 1ms/step - loss: 0.0102 - mae: 0.0102\n"
          ]
        },
        {
          "output_type": "execute_result",
          "data": {
            "text/plain": [
              "[0.01022376399487257, 0.01022376399487257]"
            ]
          },
          "metadata": {},
          "execution_count": 136
        }
      ]
    },
    {
      "cell_type": "code",
      "metadata": {
        "id": "kh7sqPOjNo8V"
      },
      "source": [
        "# Making predictions \n",
        "model_1_preds = tf.squeeze(model_1.predict(test_windows))"
      ],
      "execution_count": 137,
      "outputs": []
    },
    {
      "cell_type": "markdown",
      "metadata": {
        "id": "pMNXeHUWXcEI"
      },
      "source": [
        "Now doing the same for the Multivariate data especially for the Model 6"
      ]
    },
    {
      "cell_type": "code",
      "metadata": {
        "colab": {
          "base_uri": "https://localhost:8080/",
          "height": 235
        },
        "id": "6HoW1S6TXhvD",
        "outputId": "eb6d2735-ed5e-45ab-a775-2dd9c90a7fe3"
      },
      "source": [
        "# Block reward values\n",
        "block_reward_1 = 50 # 3 January 2009 \n",
        "block_reward_2 = 25 # 28 November 2012 \n",
        "block_reward_3 = 12.5 # 9 July 2016\n",
        "block_reward_4 = 6.25 # 11 May 2020\n",
        "\n",
        "# Block reward dates (datetime form of the above date stamps)\n",
        "block_reward_2_datetime = np.datetime64(\"2012-11-28\")\n",
        "block_reward_3_datetime = np.datetime64(\"2016-07-09\")\n",
        "block_reward_4_datetime = np.datetime64(\"2020-05-11\")\n",
        "\n",
        "# Get date indexes for when to add in different block dates\n",
        "block_reward_2_days = (block_reward_3_datetime - bitcoin_prices.index[0]).days\n",
        "block_reward_3_days = (block_reward_4_datetime - bitcoin_prices.index[0]).days\n",
        "block_reward_2_days, block_reward_3_days\n",
        "\n",
        "# Add block_reward column\n",
        "bitcoin_prices_block = bitcoin_prices.copy()\n",
        "bitcoin_prices_block[\"block_reward\"] = None\n",
        "\n",
        "# Set values of block_reward column (it's the last column hence -1 indexing on iloc)\n",
        "bitcoin_prices_block.iloc[:block_reward_2_days, -1] = block_reward_2\n",
        "bitcoin_prices_block.iloc[block_reward_2_days:block_reward_3_days, -1] = block_reward_3\n",
        "bitcoin_prices_block.iloc[block_reward_3_days:, -1] = block_reward_4\n",
        "bitcoin_prices_block.head()"
      ],
      "execution_count": 138,
      "outputs": [
        {
          "output_type": "execute_result",
          "data": {
            "text/html": [
              "<div>\n",
              "<style scoped>\n",
              "    .dataframe tbody tr th:only-of-type {\n",
              "        vertical-align: middle;\n",
              "    }\n",
              "\n",
              "    .dataframe tbody tr th {\n",
              "        vertical-align: top;\n",
              "    }\n",
              "\n",
              "    .dataframe thead th {\n",
              "        text-align: right;\n",
              "    }\n",
              "</style>\n",
              "<table border=\"1\" class=\"dataframe\">\n",
              "  <thead>\n",
              "    <tr style=\"text-align: right;\">\n",
              "      <th></th>\n",
              "      <th>Price</th>\n",
              "      <th>block_reward</th>\n",
              "    </tr>\n",
              "    <tr>\n",
              "      <th>Date</th>\n",
              "      <th></th>\n",
              "      <th></th>\n",
              "    </tr>\n",
              "  </thead>\n",
              "  <tbody>\n",
              "    <tr>\n",
              "      <th>2013-10-01</th>\n",
              "      <td>123.65499</td>\n",
              "      <td>25</td>\n",
              "    </tr>\n",
              "    <tr>\n",
              "      <th>2013-10-02</th>\n",
              "      <td>125.45500</td>\n",
              "      <td>25</td>\n",
              "    </tr>\n",
              "    <tr>\n",
              "      <th>2013-10-03</th>\n",
              "      <td>108.58483</td>\n",
              "      <td>25</td>\n",
              "    </tr>\n",
              "    <tr>\n",
              "      <th>2013-10-04</th>\n",
              "      <td>118.67466</td>\n",
              "      <td>25</td>\n",
              "    </tr>\n",
              "    <tr>\n",
              "      <th>2013-10-05</th>\n",
              "      <td>121.33866</td>\n",
              "      <td>25</td>\n",
              "    </tr>\n",
              "  </tbody>\n",
              "</table>\n",
              "</div>"
            ],
            "text/plain": [
              "                Price block_reward\n",
              "Date                              \n",
              "2013-10-01  123.65499           25\n",
              "2013-10-02  125.45500           25\n",
              "2013-10-03  108.58483           25\n",
              "2013-10-04  118.67466           25\n",
              "2013-10-05  121.33866           25"
            ]
          },
          "metadata": {},
          "execution_count": 138
        }
      ]
    },
    {
      "cell_type": "code",
      "metadata": {
        "colab": {
          "base_uri": "https://localhost:8080/",
          "height": 390
        },
        "id": "4NQkP9EmX2Xt",
        "outputId": "a1145e66-019d-4679-c1ae-2f986e7e8fda"
      },
      "source": [
        "# Make a copy of the Bitcoin historical data with block reward feature\n",
        "bitcoin_prices_windowed = bitcoin_prices_block.copy()\n",
        "\n",
        "# Add windowed columns\n",
        "for i in range(WINDOW_SIZE): \n",
        "  bitcoin_prices_windowed[f\"Price+{i+1}\"] = bitcoin_prices_windowed[\"Price\"].shift(periods=i+1)\n",
        "bitcoin_prices_windowed.head(10)"
      ],
      "execution_count": 139,
      "outputs": [
        {
          "output_type": "execute_result",
          "data": {
            "text/html": [
              "<div>\n",
              "<style scoped>\n",
              "    .dataframe tbody tr th:only-of-type {\n",
              "        vertical-align: middle;\n",
              "    }\n",
              "\n",
              "    .dataframe tbody tr th {\n",
              "        vertical-align: top;\n",
              "    }\n",
              "\n",
              "    .dataframe thead th {\n",
              "        text-align: right;\n",
              "    }\n",
              "</style>\n",
              "<table border=\"1\" class=\"dataframe\">\n",
              "  <thead>\n",
              "    <tr style=\"text-align: right;\">\n",
              "      <th></th>\n",
              "      <th>Price</th>\n",
              "      <th>block_reward</th>\n",
              "      <th>Price+1</th>\n",
              "      <th>Price+2</th>\n",
              "      <th>Price+3</th>\n",
              "      <th>Price+4</th>\n",
              "      <th>Price+5</th>\n",
              "      <th>Price+6</th>\n",
              "      <th>Price+7</th>\n",
              "    </tr>\n",
              "    <tr>\n",
              "      <th>Date</th>\n",
              "      <th></th>\n",
              "      <th></th>\n",
              "      <th></th>\n",
              "      <th></th>\n",
              "      <th></th>\n",
              "      <th></th>\n",
              "      <th></th>\n",
              "      <th></th>\n",
              "      <th></th>\n",
              "    </tr>\n",
              "  </thead>\n",
              "  <tbody>\n",
              "    <tr>\n",
              "      <th>2013-10-01</th>\n",
              "      <td>123.65499</td>\n",
              "      <td>25</td>\n",
              "      <td>NaN</td>\n",
              "      <td>NaN</td>\n",
              "      <td>NaN</td>\n",
              "      <td>NaN</td>\n",
              "      <td>NaN</td>\n",
              "      <td>NaN</td>\n",
              "      <td>NaN</td>\n",
              "    </tr>\n",
              "    <tr>\n",
              "      <th>2013-10-02</th>\n",
              "      <td>125.45500</td>\n",
              "      <td>25</td>\n",
              "      <td>123.65499</td>\n",
              "      <td>NaN</td>\n",
              "      <td>NaN</td>\n",
              "      <td>NaN</td>\n",
              "      <td>NaN</td>\n",
              "      <td>NaN</td>\n",
              "      <td>NaN</td>\n",
              "    </tr>\n",
              "    <tr>\n",
              "      <th>2013-10-03</th>\n",
              "      <td>108.58483</td>\n",
              "      <td>25</td>\n",
              "      <td>125.45500</td>\n",
              "      <td>123.65499</td>\n",
              "      <td>NaN</td>\n",
              "      <td>NaN</td>\n",
              "      <td>NaN</td>\n",
              "      <td>NaN</td>\n",
              "      <td>NaN</td>\n",
              "    </tr>\n",
              "    <tr>\n",
              "      <th>2013-10-04</th>\n",
              "      <td>118.67466</td>\n",
              "      <td>25</td>\n",
              "      <td>108.58483</td>\n",
              "      <td>125.45500</td>\n",
              "      <td>123.65499</td>\n",
              "      <td>NaN</td>\n",
              "      <td>NaN</td>\n",
              "      <td>NaN</td>\n",
              "      <td>NaN</td>\n",
              "    </tr>\n",
              "    <tr>\n",
              "      <th>2013-10-05</th>\n",
              "      <td>121.33866</td>\n",
              "      <td>25</td>\n",
              "      <td>118.67466</td>\n",
              "      <td>108.58483</td>\n",
              "      <td>125.45500</td>\n",
              "      <td>123.65499</td>\n",
              "      <td>NaN</td>\n",
              "      <td>NaN</td>\n",
              "      <td>NaN</td>\n",
              "    </tr>\n",
              "    <tr>\n",
              "      <th>2013-10-06</th>\n",
              "      <td>120.65533</td>\n",
              "      <td>25</td>\n",
              "      <td>121.33866</td>\n",
              "      <td>118.67466</td>\n",
              "      <td>108.58483</td>\n",
              "      <td>125.45500</td>\n",
              "      <td>123.65499</td>\n",
              "      <td>NaN</td>\n",
              "      <td>NaN</td>\n",
              "    </tr>\n",
              "    <tr>\n",
              "      <th>2013-10-07</th>\n",
              "      <td>121.79500</td>\n",
              "      <td>25</td>\n",
              "      <td>120.65533</td>\n",
              "      <td>121.33866</td>\n",
              "      <td>118.67466</td>\n",
              "      <td>108.58483</td>\n",
              "      <td>125.45500</td>\n",
              "      <td>123.65499</td>\n",
              "      <td>NaN</td>\n",
              "    </tr>\n",
              "    <tr>\n",
              "      <th>2013-10-08</th>\n",
              "      <td>123.03300</td>\n",
              "      <td>25</td>\n",
              "      <td>121.79500</td>\n",
              "      <td>120.65533</td>\n",
              "      <td>121.33866</td>\n",
              "      <td>118.67466</td>\n",
              "      <td>108.58483</td>\n",
              "      <td>125.45500</td>\n",
              "      <td>123.65499</td>\n",
              "    </tr>\n",
              "    <tr>\n",
              "      <th>2013-10-09</th>\n",
              "      <td>124.04900</td>\n",
              "      <td>25</td>\n",
              "      <td>123.03300</td>\n",
              "      <td>121.79500</td>\n",
              "      <td>120.65533</td>\n",
              "      <td>121.33866</td>\n",
              "      <td>118.67466</td>\n",
              "      <td>108.58483</td>\n",
              "      <td>125.45500</td>\n",
              "    </tr>\n",
              "    <tr>\n",
              "      <th>2013-10-10</th>\n",
              "      <td>125.96116</td>\n",
              "      <td>25</td>\n",
              "      <td>124.04900</td>\n",
              "      <td>123.03300</td>\n",
              "      <td>121.79500</td>\n",
              "      <td>120.65533</td>\n",
              "      <td>121.33866</td>\n",
              "      <td>118.67466</td>\n",
              "      <td>108.58483</td>\n",
              "    </tr>\n",
              "  </tbody>\n",
              "</table>\n",
              "</div>"
            ],
            "text/plain": [
              "                Price block_reward    Price+1  ...    Price+5    Price+6    Price+7\n",
              "Date                                           ...                                 \n",
              "2013-10-01  123.65499           25        NaN  ...        NaN        NaN        NaN\n",
              "2013-10-02  125.45500           25  123.65499  ...        NaN        NaN        NaN\n",
              "2013-10-03  108.58483           25  125.45500  ...        NaN        NaN        NaN\n",
              "2013-10-04  118.67466           25  108.58483  ...        NaN        NaN        NaN\n",
              "2013-10-05  121.33866           25  118.67466  ...        NaN        NaN        NaN\n",
              "2013-10-06  120.65533           25  121.33866  ...  123.65499        NaN        NaN\n",
              "2013-10-07  121.79500           25  120.65533  ...  125.45500  123.65499        NaN\n",
              "2013-10-08  123.03300           25  121.79500  ...  108.58483  125.45500  123.65499\n",
              "2013-10-09  124.04900           25  123.03300  ...  118.67466  108.58483  125.45500\n",
              "2013-10-10  125.96116           25  124.04900  ...  121.33866  118.67466  108.58483\n",
              "\n",
              "[10 rows x 9 columns]"
            ]
          },
          "metadata": {},
          "execution_count": 139
        }
      ]
    },
    {
      "cell_type": "code",
      "metadata": {
        "colab": {
          "base_uri": "https://localhost:8080/",
          "height": 235
        },
        "id": "73jAFAVeYpD-",
        "outputId": "63dab29f-0e22-459f-f4c3-e0959db13e8f"
      },
      "source": [
        "# Let's create X & y, remove the NaN's and convert to float32 to prevent TensorFlow errors \n",
        "X = bitcoin_prices_windowed.dropna().drop(\"Price\", axis=1).astype(np.float32) \n",
        "y = bitcoin_prices_windowed.dropna()[\"Price\"].astype(np.float32)\n",
        "X.head()"
      ],
      "execution_count": 140,
      "outputs": [
        {
          "output_type": "execute_result",
          "data": {
            "text/html": [
              "<div>\n",
              "<style scoped>\n",
              "    .dataframe tbody tr th:only-of-type {\n",
              "        vertical-align: middle;\n",
              "    }\n",
              "\n",
              "    .dataframe tbody tr th {\n",
              "        vertical-align: top;\n",
              "    }\n",
              "\n",
              "    .dataframe thead th {\n",
              "        text-align: right;\n",
              "    }\n",
              "</style>\n",
              "<table border=\"1\" class=\"dataframe\">\n",
              "  <thead>\n",
              "    <tr style=\"text-align: right;\">\n",
              "      <th></th>\n",
              "      <th>block_reward</th>\n",
              "      <th>Price+1</th>\n",
              "      <th>Price+2</th>\n",
              "      <th>Price+3</th>\n",
              "      <th>Price+4</th>\n",
              "      <th>Price+5</th>\n",
              "      <th>Price+6</th>\n",
              "      <th>Price+7</th>\n",
              "    </tr>\n",
              "    <tr>\n",
              "      <th>Date</th>\n",
              "      <th></th>\n",
              "      <th></th>\n",
              "      <th></th>\n",
              "      <th></th>\n",
              "      <th></th>\n",
              "      <th></th>\n",
              "      <th></th>\n",
              "      <th></th>\n",
              "    </tr>\n",
              "  </thead>\n",
              "  <tbody>\n",
              "    <tr>\n",
              "      <th>2013-10-08</th>\n",
              "      <td>25.0</td>\n",
              "      <td>121.794998</td>\n",
              "      <td>120.655327</td>\n",
              "      <td>121.338661</td>\n",
              "      <td>118.674660</td>\n",
              "      <td>108.584831</td>\n",
              "      <td>125.455002</td>\n",
              "      <td>123.654991</td>\n",
              "    </tr>\n",
              "    <tr>\n",
              "      <th>2013-10-09</th>\n",
              "      <td>25.0</td>\n",
              "      <td>123.032997</td>\n",
              "      <td>121.794998</td>\n",
              "      <td>120.655327</td>\n",
              "      <td>121.338661</td>\n",
              "      <td>118.674660</td>\n",
              "      <td>108.584831</td>\n",
              "      <td>125.455002</td>\n",
              "    </tr>\n",
              "    <tr>\n",
              "      <th>2013-10-10</th>\n",
              "      <td>25.0</td>\n",
              "      <td>124.049004</td>\n",
              "      <td>123.032997</td>\n",
              "      <td>121.794998</td>\n",
              "      <td>120.655327</td>\n",
              "      <td>121.338661</td>\n",
              "      <td>118.674660</td>\n",
              "      <td>108.584831</td>\n",
              "    </tr>\n",
              "    <tr>\n",
              "      <th>2013-10-11</th>\n",
              "      <td>25.0</td>\n",
              "      <td>125.961159</td>\n",
              "      <td>124.049004</td>\n",
              "      <td>123.032997</td>\n",
              "      <td>121.794998</td>\n",
              "      <td>120.655327</td>\n",
              "      <td>121.338661</td>\n",
              "      <td>118.674660</td>\n",
              "    </tr>\n",
              "    <tr>\n",
              "      <th>2013-10-12</th>\n",
              "      <td>25.0</td>\n",
              "      <td>125.279663</td>\n",
              "      <td>125.961159</td>\n",
              "      <td>124.049004</td>\n",
              "      <td>123.032997</td>\n",
              "      <td>121.794998</td>\n",
              "      <td>120.655327</td>\n",
              "      <td>121.338661</td>\n",
              "    </tr>\n",
              "  </tbody>\n",
              "</table>\n",
              "</div>"
            ],
            "text/plain": [
              "            block_reward     Price+1  ...     Price+6     Price+7\n",
              "Date                                  ...                        \n",
              "2013-10-08          25.0  121.794998  ...  125.455002  123.654991\n",
              "2013-10-09          25.0  123.032997  ...  108.584831  125.455002\n",
              "2013-10-10          25.0  124.049004  ...  118.674660  108.584831\n",
              "2013-10-11          25.0  125.961159  ...  121.338661  118.674660\n",
              "2013-10-12          25.0  125.279663  ...  120.655327  121.338661\n",
              "\n",
              "[5 rows x 8 columns]"
            ]
          },
          "metadata": {},
          "execution_count": 140
        }
      ]
    },
    {
      "cell_type": "code",
      "metadata": {
        "id": "_SdPXx_SauLC"
      },
      "source": [
        "# Scaling the X data \n",
        "X_scaled = scaler.fit_transform(X)\n",
        "y_scaled = scaler.fit_transform(np.expand_dims(y , axis = 1))\n",
        "y_scaled = np.squeeze(y_scaled)"
      ],
      "execution_count": 141,
      "outputs": []
    },
    {
      "cell_type": "code",
      "metadata": {
        "colab": {
          "base_uri": "https://localhost:8080/"
        },
        "id": "0M8UVLaIa1km",
        "outputId": "92fe1cad-2772-4a3b-b92b-82e83f8bbf89"
      },
      "source": [
        "# Make train and test set splits of the scaled data \n",
        "split_size = int(len(X) * 0.8)\n",
        "X_train, y_train = X_scaled[:split_size], y_scaled[:split_size]\n",
        "X_test, y_test = X_scaled[split_size:], y_scaled[split_size:]\n",
        "len(X_train), len(y_train), len(X_test), len(y_test)"
      ],
      "execution_count": 142,
      "outputs": [
        {
          "output_type": "execute_result",
          "data": {
            "text/plain": [
              "(2224, 2224, 556, 556)"
            ]
          },
          "metadata": {},
          "execution_count": 142
        }
      ]
    },
    {
      "cell_type": "code",
      "metadata": {
        "colab": {
          "base_uri": "https://localhost:8080/"
        },
        "id": "6sXgRZ1Ka-TT",
        "outputId": "32a6ed6d-814d-4554-d8f5-3e01a6927114"
      },
      "source": [
        "# Building a Multivariate time series model and fitting it\n",
        "tf.random.set_seed(42)\n",
        "\n",
        "model_6 = tf.keras.Sequential([\n",
        "  layers.Dense(128 , activation= 'relu'), \n",
        "  layers.Dense(HORIZON)\n",
        "])\n",
        "\n",
        "model_6.compile(loss = 'mae' , \n",
        "                optimizer = tf.keras.optimizers.Adam())\n",
        "\n",
        "model_6.fit(X_train , y_train , \n",
        "          epochs = 100 ,\n",
        "          verbose = 0 , batch_size = 128, \n",
        "          validation_data = (X_test , y_test))"
      ],
      "execution_count": 143,
      "outputs": [
        {
          "output_type": "execute_result",
          "data": {
            "text/plain": [
              "<keras.callbacks.History at 0x7f5111cff450>"
            ]
          },
          "metadata": {},
          "execution_count": 143
        }
      ]
    },
    {
      "cell_type": "code",
      "metadata": {
        "colab": {
          "base_uri": "https://localhost:8080/"
        },
        "id": "rs_ZDtr1b3-N",
        "outputId": "0823a218-a697-4f54-9238-f709af26b50c"
      },
      "source": [
        "# Evaluate the model 6 \n",
        "model_6.evaluate(X_test , y_test)"
      ],
      "execution_count": 144,
      "outputs": [
        {
          "output_type": "stream",
          "name": "stdout",
          "text": [
            "18/18 [==============================] - 0s 978us/step - loss: 0.0735\n"
          ]
        },
        {
          "output_type": "execute_result",
          "data": {
            "text/plain": [
              "0.07352113723754883"
            ]
          },
          "metadata": {},
          "execution_count": 144
        }
      ]
    },
    {
      "cell_type": "markdown",
      "metadata": {
        "id": "MqlPT_dXfuQf"
      },
      "source": [
        "### 2. Get the most up to date data on Bitcoin, train a model & see how it goes (our data goes up to May 18 2021)."
      ]
    },
    {
      "cell_type": "code",
      "metadata": {
        "colab": {
          "base_uri": "https://localhost:8080/"
        },
        "id": "LUKI8td_b_F_",
        "outputId": "e354aba8-e55e-4369-c992-da2469fc7ef9"
      },
      "source": [
        "# Loading the in the latest csv from Coindesk\n",
        "df_updated = pd.read_csv('/content/BTC_USD_2014-11-02_2021-09-09-CoinDesk.csv' , \n",
        "                 parse_dates = ['Date'] , \n",
        "                 index_col = ['Date'])\n",
        "\n",
        "bitcoin_prices_updated = pd.DataFrame(df_updated[\"Closing Price (USD)\"]).rename(columns={\"Closing Price (USD)\": \"Price\"})\n",
        "bitcoin_prices_updated.head(10) , bitcoin_prices_updated.shape"
      ],
      "execution_count": 145,
      "outputs": [
        {
          "output_type": "execute_result",
          "data": {
            "text/plain": [
              "(                Price\n",
              " Date                 \n",
              " 2014-11-02  325.22633\n",
              " 2014-11-03  331.60083\n",
              " 2014-11-04  324.71833\n",
              " 2014-11-05  332.45666\n",
              " 2014-11-06  336.58500\n",
              " 2014-11-07  346.77500\n",
              " 2014-11-08  344.81166\n",
              " 2014-11-09  343.06500\n",
              " 2014-11-10  358.50166\n",
              " 2014-11-11  368.07666, (2503, 1))"
            ]
          },
          "metadata": {},
          "execution_count": 145
        }
      ]
    },
    {
      "cell_type": "code",
      "metadata": {
        "id": "52OylhbEiIII"
      },
      "source": [
        "prices_updated = bitcoin_prices_updated['Price'].to_numpy()"
      ],
      "execution_count": 146,
      "outputs": []
    },
    {
      "cell_type": "code",
      "metadata": {
        "id": "JZYgYStegy7E"
      },
      "source": [
        "def make_windows(x, window_size=7, horizon=1):\n",
        "  \"\"\"\n",
        "  Turns a 1D array into a 2D array of sequential windows of window_size.\n",
        "  \"\"\"\n",
        "  \n",
        "  window_step = np.expand_dims(np.arange(window_size+horizon), axis=0)\n",
        "  window_indexes = window_step + np.expand_dims(np.arange(len(x)-(window_size+horizon-1)), axis=0).T # create 2D array of windows of size window_size\n",
        "  windowed_array = x[window_indexes]\n",
        "  windows, labels = get_labelled_windows(windowed_array, horizon=horizon)\n",
        "\n",
        "  return windows, labels"
      ],
      "execution_count": 147,
      "outputs": []
    },
    {
      "cell_type": "code",
      "metadata": {
        "colab": {
          "base_uri": "https://localhost:8080/"
        },
        "id": "bBzAx_9nhfGF",
        "outputId": "fd57be42-7351-4f55-9681-b8210d54f2da"
      },
      "source": [
        "full_windows , full_labels = make_windows(prices_updated)\n",
        "len(full_windows), len(full_labels)"
      ],
      "execution_count": 148,
      "outputs": [
        {
          "output_type": "execute_result",
          "data": {
            "text/plain": [
              "(2496, 2496)"
            ]
          },
          "metadata": {},
          "execution_count": 148
        }
      ]
    },
    {
      "cell_type": "code",
      "metadata": {
        "colab": {
          "base_uri": "https://localhost:8080/"
        },
        "id": "jQ5Iir7jvLeY",
        "outputId": "726bcf5a-900a-470e-e664-3a4ffc59a440"
      },
      "source": [
        "# Looking at few examples of how price is scaled\n",
        "for i in range(3):\n",
        "  print(f'Window: {full_windows[i]} --> Label {full_labels[i]}')"
      ],
      "execution_count": 149,
      "outputs": [
        {
          "output_type": "stream",
          "name": "stdout",
          "text": [
            "Window: [325.22633 331.60083 324.71833 332.45666 336.585   346.775   344.81166] --> Label [343.065]\n",
            "Window: [331.60083 324.71833 332.45666 336.585   346.775   344.81166 343.065  ] --> Label [358.50166]\n",
            "Window: [324.71833 332.45666 336.585   346.775   344.81166 343.065   358.50166] --> Label [368.07666]\n"
          ]
        }
      ]
    },
    {
      "cell_type": "code",
      "metadata": {
        "colab": {
          "base_uri": "https://localhost:8080/"
        },
        "id": "2HCIuZdxh-GC",
        "outputId": "80ec4440-c36b-419b-93a4-bdf1f8b0de5f"
      },
      "source": [
        "# Making train and test splits\n",
        "train_windows ,  test_windows ,train_labels,  test_labels =  make_train_test_splits(full_windows , full_labels)\n",
        "\n",
        "len(train_windows) ,  len(test_windows) , len(train_labels),  len(test_labels) "
      ],
      "execution_count": 150,
      "outputs": [
        {
          "output_type": "execute_result",
          "data": {
            "text/plain": [
              "(1996, 500, 1996, 500)"
            ]
          },
          "metadata": {},
          "execution_count": 150
        }
      ]
    },
    {
      "cell_type": "markdown",
      "metadata": {
        "id": "e1Ve_RGCm5Ez"
      },
      "source": [
        "Now we're building the same Model 1 with the new coindesk data. "
      ]
    },
    {
      "cell_type": "code",
      "metadata": {
        "colab": {
          "base_uri": "https://localhost:8080/"
        },
        "id": "4IytoXshkhJE",
        "outputId": "ef32194c-116c-457c-b3ba-1ad5fec14841"
      },
      "source": [
        "# Building the Model 1 with the updated data\n",
        "tf.random.set_seed(42)\n",
        "\n",
        "# Construct the model \n",
        "model_1 = tf.keras.Sequential([\n",
        "  layers.Dense(128, activation= 'relu') ,\n",
        "  layers.Dense(HORIZON , activation = 'linear')\n",
        "])\n",
        "\n",
        "# Compiling the model \n",
        "model_1.compile(loss = 'mae' , \n",
        "                optimizer = tf.keras.optimizers.Adam() , \n",
        "                metrics = ['mae'])\n",
        "\n",
        "# Fit the model \n",
        "model_1.fit(x = train_windows , \n",
        "            y = train_labels , \n",
        "            epochs = 100 , batch_size = 128 , verbose = 0 , \n",
        "            validation_data = (test_windows , test_labels))"
      ],
      "execution_count": 151,
      "outputs": [
        {
          "output_type": "execute_result",
          "data": {
            "text/plain": [
              "<keras.callbacks.History at 0x7f5111c4be50>"
            ]
          },
          "metadata": {},
          "execution_count": 151
        }
      ]
    },
    {
      "cell_type": "code",
      "metadata": {
        "colab": {
          "base_uri": "https://localhost:8080/"
        },
        "id": "Uq-4_z0rm_Gc",
        "outputId": "9ef52497-94a5-4690-fdda-f9cb9a2cd0de"
      },
      "source": [
        "# Evaluating the model \n",
        "model_1.evaluate(test_windows , test_labels)"
      ],
      "execution_count": 152,
      "outputs": [
        {
          "output_type": "stream",
          "name": "stdout",
          "text": [
            "16/16 [==============================] - 0s 1ms/step - loss: 884.0141 - mae: 884.0141\n"
          ]
        },
        {
          "output_type": "execute_result",
          "data": {
            "text/plain": [
              "[884.0140991210938, 884.0140991210938]"
            ]
          },
          "metadata": {},
          "execution_count": 152
        }
      ]
    },
    {
      "cell_type": "markdown",
      "metadata": {
        "id": "OIuiLp-PnYlS"
      },
      "source": [
        "### 3. For most of our models we used WINDOW_SIZE=7, but is there a better window size?\n",
        "\n",
        "* Setup a series of experiments to find whether or not there’s a better window size.\n",
        "* For example, you might train 10 different models with HORIZON=1 but with window sizes ranging from 2-12."
      ]
    },
    {
      "cell_type": "code",
      "metadata": {
        "id": "P08KPQgG6op2"
      },
      "source": [
        "# Writing a evaluation function based on the preds and targets \n",
        "def evaluate_preds(y_true , y_pred):\n",
        "\n",
        "  # Casting the values to float32 \n",
        "  y_true = tf.cast(y_true , tf.float32)\n",
        "  y_pred = tf.cast(y_pred , tf.float32)\n",
        "\n",
        "\n",
        "  # Calculate the metrics \n",
        "  mae = tf.keras.metrics.mean_absolute_error(y_true , y_pred)\n",
        "  mse = tf.keras.metrics.mean_squared_error(y_true , y_pred)\n",
        "  rmse = tf.sqrt(mse)\n",
        "  mape = tf.keras.metrics.mean_absolute_percentage_error(y_true , y_pred)\n",
        "  \n",
        "  # For longer horizons \n",
        "  if mae.ndim > 0:\n",
        "    mae = tf.reduce_sum(mae)\n",
        "    mse = tf.reduce_sum(mse)\n",
        "    rmse = tf.reduce_sum(rmse)\n",
        "    mape = tf.reduce_sum(mape)\n",
        "\n",
        "  return {'mae' : mae.numpy() , \n",
        "          'mse': mse.numpy() , \n",
        "          'rmse': rmse.numpy() , \n",
        "          'mape': mape.numpy() }"
      ],
      "execution_count": 153,
      "outputs": []
    },
    {
      "cell_type": "code",
      "metadata": {
        "colab": {
          "base_uri": "https://localhost:8080/"
        },
        "id": "x11lEVED6d9A",
        "outputId": "513efdb8-1aea-4b98-e3b3-a9a2ecac82a4"
      },
      "source": [
        "# Writing a for loop to iterate over the Window size and build 10 different models\n",
        "\n",
        "# 10 Different models with window size ranging from (2 - 12) and store the results\n",
        "model_results_list = []\n",
        "\n",
        "from tqdm import tqdm\n",
        "for size in tqdm(range(2,12)):\n",
        "  HORIZON = 1 \n",
        "  WINDOW_SIZE = size\n",
        "\n",
        "  # Making window and labels \n",
        "  full_windows , full_labels = make_windows(prices, window_size= WINDOW_SIZE , horizon= HORIZON)\n",
        "  \n",
        "\n",
        "  # Splitting the data in train and test\n",
        "  train_windows ,  test_windows ,train_labels,  test_labels = make_train_test_splits(full_windows , full_labels)\n",
        "\n",
        "\n",
        "  # Building a simple dense model\n",
        "  input = layers.Input(shape = (WINDOW_SIZE ,) , name = 'Input_layer')\n",
        "  x = layers.Dense(128 , activation= 'relu')(input)\n",
        "  output = layers.Dense(HORIZON , activation= 'linear')(x)\n",
        "\n",
        "  # Packing into a model \n",
        "  model = tf.keras.Model(input , output , name = f'model_windowed_{size}')\n",
        "\n",
        "  # Compiling and fitting the model \n",
        "  model.compile(loss = 'mae' , optimizer = 'adam' , metrics = 'mae')\n",
        "\n",
        "  model.fit(train_windows , train_labels , \n",
        "            epochs = 100 , verbose = 0 , \n",
        "            batch_size = 128 , \n",
        "            validation_data = (test_windows , test_labels))\n",
        "  \n",
        "\n",
        "  # Making predictions \n",
        "  preds_ = model.predict(test_windows)\n",
        "  y_preds = tf.squeeze(preds_)\n",
        "\n",
        "  results = evaluate_preds(tf.squeeze(test_labels) , y_preds)\n",
        "  model_results_list.append(results)\n",
        " "
      ],
      "execution_count": 154,
      "outputs": [
        {
          "output_type": "stream",
          "name": "stderr",
          "text": [
            "100%|██████████| 10/10 [00:53<00:00,  5.34s/it]\n"
          ]
        }
      ]
    },
    {
      "cell_type": "code",
      "metadata": {
        "colab": {
          "base_uri": "https://localhost:8080/"
        },
        "id": "Qyp-2gqoUipn",
        "outputId": "2203ccf7-83d5-4d69-bcbd-39959c2d8ccf"
      },
      "source": [
        "# Below are the 10 different models result \n",
        "model_results_list"
      ],
      "execution_count": 155,
      "outputs": [
        {
          "output_type": "execute_result",
          "data": {
            "text/plain": [
              "[{'mae': 569.15063, 'mape': 2.527791, 'mse': 1159396.8, 'rmse': 1076.7529},\n",
              " {'mae': 565.61005, 'mape': 2.5274613, 'mse': 1139677.9, 'rmse': 1067.557},\n",
              " {'mae': 623.4455, 'mape': 2.8342047, 'mse': 1266272.4, 'rmse': 1125.2877},\n",
              " {'mae': 565.611, 'mape': 2.5193882, 'mse': 1157947.0, 'rmse': 1076.0795},\n",
              " {'mae': 575.82715, 'mape': 2.5713227, 'mse': 1181491.9, 'rmse': 1086.9645},\n",
              " {'mae': 624.6512, 'mape': 2.8559427, 'mse': 1279309.4, 'rmse': 1131.0656},\n",
              " {'mae': 673.8467, 'mape': 3.155991, 'mse': 1400997.6, 'rmse': 1183.6375},\n",
              " {'mae': 661.0687, 'mape': 3.0541995, 'mse': 1343185.1, 'rmse': 1158.9586},\n",
              " {'mae': 583.37537, 'mape': 2.6407204, 'mse': 1204248.0, 'rmse': 1097.3823},\n",
              " {'mae': 701.847, 'mape': 3.2888002, 'mse': 1443913.1, 'rmse': 1201.6294}]"
            ]
          },
          "metadata": {},
          "execution_count": 155
        }
      ]
    },
    {
      "cell_type": "markdown",
      "metadata": {
        "id": "wzH981vjL-fT"
      },
      "source": [
        "### 4. Create a windowed dataset just like the ones we used for model_1 using  [tf.keras.preprocessing.timeseries_dataset_from_array()](https://www.tensorflow.org/api_docs/python/tf/keras/preprocessing/timeseries_dataset_from_array)  and retrain model_1 using the recreated dataset."
      ]
    },
    {
      "cell_type": "code",
      "metadata": {
        "id": "YcRI4RcIYnYE"
      },
      "source": [
        "WINDOW_SIZE = 7 \n",
        "HORIZON = 1"
      ],
      "execution_count": 156,
      "outputs": []
    },
    {
      "cell_type": "code",
      "metadata": {
        "id": "zakDAvtCY32O"
      },
      "source": [
        "# Make the splits \n",
        "def make_train_test_splits(windows , labels , test_split = 0.2):\n",
        "  split_size = int(len(windows) * (1 - test_split))\n",
        "  train_windows = windows[:split_size]\n",
        "  train_labels = labels[:split_size]\n",
        "  test_windows = windows[split_size:]\n",
        "  test_labels = labels[split_size:]\n",
        "\n",
        "  return train_windows ,  test_windows ,train_labels,  test_labels"
      ],
      "execution_count": 157,
      "outputs": []
    },
    {
      "cell_type": "code",
      "metadata": {
        "id": "ujv0D7izXNhn"
      },
      "source": [
        "ds = tf.keras.utils.timeseries_dataset_from_array(\n",
        "    data = prices , targets = prices , sequence_length = WINDOW_SIZE , sequence_stride = HORIZON, \n",
        "    batch_size = 128\n",
        ")"
      ],
      "execution_count": 158,
      "outputs": []
    },
    {
      "cell_type": "code",
      "metadata": {
        "id": "ha5sXVH-ctoF"
      },
      "source": [
        "train_size , test_size = int(0.8 * len(ds)) ,int(0.2 * len(ds))"
      ],
      "execution_count": 159,
      "outputs": []
    },
    {
      "cell_type": "code",
      "metadata": {
        "id": "ZlzXwk84cxp6"
      },
      "source": [
        "train_ds = ds.take(train_size)\n",
        "test_ds = ds.skip(train_size).take(test_size)"
      ],
      "execution_count": 160,
      "outputs": []
    },
    {
      "cell_type": "code",
      "metadata": {
        "colab": {
          "base_uri": "https://localhost:8080/"
        },
        "id": "AcTn-l1Idl3t",
        "outputId": "8c237383-78e4-41c1-fed4-cc394976b141"
      },
      "source": [
        "for x , y in train_ds.take(1):\n",
        "  print(x[:2] , y[:2])"
      ],
      "execution_count": 161,
      "outputs": [
        {
          "output_type": "stream",
          "name": "stdout",
          "text": [
            "tf.Tensor(\n",
            "[[123.65499 125.455   108.58483 118.67466 121.33866 120.65533 121.795  ]\n",
            " [125.455   108.58483 118.67466 121.33866 120.65533 121.795   123.033  ]], shape=(2, 7), dtype=float64) tf.Tensor([123.65499 125.455  ], shape=(2,), dtype=float64)\n"
          ]
        }
      ]
    },
    {
      "cell_type": "code",
      "metadata": {
        "colab": {
          "base_uri": "https://localhost:8080/"
        },
        "id": "xuP5_htZduAu",
        "outputId": "7acba072-6059-4653-8769-7671b0b37fa4"
      },
      "source": [
        "for x , y in test_ds.take(1):\n",
        "  print(x[:2] , y[:2])"
      ],
      "execution_count": 162,
      "outputs": [
        {
          "output_type": "stream",
          "name": "stdout",
          "text": [
            "tf.Tensor(\n",
            "[[10302.19071368 10301.65965169 10231.42151196 10168.28770938\n",
            "  10223.5055788  10138.33520522  9984.52051597]\n",
            " [10301.65965169 10231.42151196 10168.28770938 10223.5055788\n",
            "  10138.33520522  9984.52051597 10031.86670899]], shape=(2, 7), dtype=float64) tf.Tensor([10302.19071368 10301.65965169], shape=(2,), dtype=float64)\n"
          ]
        }
      ]
    },
    {
      "cell_type": "code",
      "metadata": {
        "colab": {
          "base_uri": "https://localhost:8080/"
        },
        "id": "ieBAnXs0eJAy",
        "outputId": "a9f8cb6d-e959-4b31-effb-2840c3960866"
      },
      "source": [
        "# Building the Model 1 with the updated data\n",
        "tf.random.set_seed(42)\n",
        "\n",
        "# Building a simple dense model\n",
        "input = layers.Input(shape = (WINDOW_SIZE ,) , name = 'Input_layer' , dtype = tf.float32)\n",
        "x = layers.Dense(128 , activation= 'relu')(input)\n",
        "output = layers.Dense(HORIZON , activation= 'linear')(x)\n",
        "\n",
        "# Packing into a model \n",
        "model = tf.keras.Model(input , output)\n",
        "\n",
        "# Compiling the model \n",
        "model.compile(loss = 'mae' , \n",
        "                optimizer = tf.keras.optimizers.Adam() , \n",
        "                metrics = ['mae'])\n",
        "\n",
        "# Fit the model \n",
        "model.fit(train_ds ,\n",
        "          epochs = 100 , verbose = 0 , \n",
        "            validation_data = test_ds)"
      ],
      "execution_count": 163,
      "outputs": [
        {
          "output_type": "execute_result",
          "data": {
            "text/plain": [
              "<keras.callbacks.History at 0x7f51a9f27290>"
            ]
          },
          "metadata": {},
          "execution_count": 163
        }
      ]
    },
    {
      "cell_type": "code",
      "metadata": {
        "colab": {
          "base_uri": "https://localhost:8080/"
        },
        "id": "uPBtfK2diAkV",
        "outputId": "31613fb9-493c-4218-dee5-112b318daa9a"
      },
      "source": [
        "# Evaluating the model on the test set\n",
        "model.evaluate(test_ds)"
      ],
      "execution_count": 164,
      "outputs": [
        {
          "output_type": "stream",
          "name": "stdout",
          "text": [
            "4/4 [==============================] - 0s 20ms/step - loss: 428.2230 - mae: 428.2230\n"
          ]
        },
        {
          "output_type": "execute_result",
          "data": {
            "text/plain": [
              "[428.22296142578125, 428.22296142578125]"
            ]
          },
          "metadata": {},
          "execution_count": 164
        }
      ]
    },
    {
      "cell_type": "markdown",
      "metadata": {
        "id": "6GONHDDlhwKr"
      },
      "source": [
        "### 5. For our multivariate modelling experiment, we added the Bitcoin block reward size as an extra feature to make our time series multivariate.\n",
        "\n",
        "  * Are there any other features you think you could add?\n",
        "  * If so, try it out, how do these affect the model?"
      ]
    },
    {
      "cell_type": "code",
      "metadata": {
        "id": "VA-51-MMxzNO",
        "colab": {
          "base_uri": "https://localhost:8080/",
          "height": 450
        },
        "outputId": "e7b2007e-d7c4-4634-e7bf-25cad0149888"
      },
      "source": [
        "df"
      ],
      "execution_count": 165,
      "outputs": [
        {
          "output_type": "execute_result",
          "data": {
            "text/html": [
              "<div>\n",
              "<style scoped>\n",
              "    .dataframe tbody tr th:only-of-type {\n",
              "        vertical-align: middle;\n",
              "    }\n",
              "\n",
              "    .dataframe tbody tr th {\n",
              "        vertical-align: top;\n",
              "    }\n",
              "\n",
              "    .dataframe thead th {\n",
              "        text-align: right;\n",
              "    }\n",
              "</style>\n",
              "<table border=\"1\" class=\"dataframe\">\n",
              "  <thead>\n",
              "    <tr style=\"text-align: right;\">\n",
              "      <th></th>\n",
              "      <th>Currency</th>\n",
              "      <th>Closing Price (USD)</th>\n",
              "      <th>24h Open (USD)</th>\n",
              "      <th>24h High (USD)</th>\n",
              "      <th>24h Low (USD)</th>\n",
              "    </tr>\n",
              "    <tr>\n",
              "      <th>Date</th>\n",
              "      <th></th>\n",
              "      <th></th>\n",
              "      <th></th>\n",
              "      <th></th>\n",
              "      <th></th>\n",
              "    </tr>\n",
              "  </thead>\n",
              "  <tbody>\n",
              "    <tr>\n",
              "      <th>2013-10-01</th>\n",
              "      <td>BTC</td>\n",
              "      <td>123.654990</td>\n",
              "      <td>124.304660</td>\n",
              "      <td>124.751660</td>\n",
              "      <td>122.563490</td>\n",
              "    </tr>\n",
              "    <tr>\n",
              "      <th>2013-10-02</th>\n",
              "      <td>BTC</td>\n",
              "      <td>125.455000</td>\n",
              "      <td>123.654990</td>\n",
              "      <td>125.758500</td>\n",
              "      <td>123.633830</td>\n",
              "    </tr>\n",
              "    <tr>\n",
              "      <th>2013-10-03</th>\n",
              "      <td>BTC</td>\n",
              "      <td>108.584830</td>\n",
              "      <td>125.455000</td>\n",
              "      <td>125.665660</td>\n",
              "      <td>83.328330</td>\n",
              "    </tr>\n",
              "    <tr>\n",
              "      <th>2013-10-04</th>\n",
              "      <td>BTC</td>\n",
              "      <td>118.674660</td>\n",
              "      <td>108.584830</td>\n",
              "      <td>118.675000</td>\n",
              "      <td>107.058160</td>\n",
              "    </tr>\n",
              "    <tr>\n",
              "      <th>2013-10-05</th>\n",
              "      <td>BTC</td>\n",
              "      <td>121.338660</td>\n",
              "      <td>118.674660</td>\n",
              "      <td>121.936330</td>\n",
              "      <td>118.005660</td>\n",
              "    </tr>\n",
              "    <tr>\n",
              "      <th>...</th>\n",
              "      <td>...</td>\n",
              "      <td>...</td>\n",
              "      <td>...</td>\n",
              "      <td>...</td>\n",
              "      <td>...</td>\n",
              "    </tr>\n",
              "    <tr>\n",
              "      <th>2021-05-14</th>\n",
              "      <td>BTC</td>\n",
              "      <td>49764.132082</td>\n",
              "      <td>49596.778891</td>\n",
              "      <td>51448.798576</td>\n",
              "      <td>46294.720180</td>\n",
              "    </tr>\n",
              "    <tr>\n",
              "      <th>2021-05-15</th>\n",
              "      <td>BTC</td>\n",
              "      <td>50032.693137</td>\n",
              "      <td>49717.354353</td>\n",
              "      <td>51578.312545</td>\n",
              "      <td>48944.346536</td>\n",
              "    </tr>\n",
              "    <tr>\n",
              "      <th>2021-05-16</th>\n",
              "      <td>BTC</td>\n",
              "      <td>47885.625255</td>\n",
              "      <td>49926.035067</td>\n",
              "      <td>50690.802950</td>\n",
              "      <td>47005.102292</td>\n",
              "    </tr>\n",
              "    <tr>\n",
              "      <th>2021-05-17</th>\n",
              "      <td>BTC</td>\n",
              "      <td>45604.615754</td>\n",
              "      <td>46805.537852</td>\n",
              "      <td>49670.414174</td>\n",
              "      <td>43868.638969</td>\n",
              "    </tr>\n",
              "    <tr>\n",
              "      <th>2021-05-18</th>\n",
              "      <td>BTC</td>\n",
              "      <td>43144.471291</td>\n",
              "      <td>46439.336570</td>\n",
              "      <td>46622.853437</td>\n",
              "      <td>42102.346430</td>\n",
              "    </tr>\n",
              "  </tbody>\n",
              "</table>\n",
              "<p>2787 rows × 5 columns</p>\n",
              "</div>"
            ],
            "text/plain": [
              "           Currency  Closing Price (USD)  ...  24h High (USD)  24h Low (USD)\n",
              "Date                                      ...                               \n",
              "2013-10-01      BTC           123.654990  ...      124.751660     122.563490\n",
              "2013-10-02      BTC           125.455000  ...      125.758500     123.633830\n",
              "2013-10-03      BTC           108.584830  ...      125.665660      83.328330\n",
              "2013-10-04      BTC           118.674660  ...      118.675000     107.058160\n",
              "2013-10-05      BTC           121.338660  ...      121.936330     118.005660\n",
              "...             ...                  ...  ...             ...            ...\n",
              "2021-05-14      BTC         49764.132082  ...    51448.798576   46294.720180\n",
              "2021-05-15      BTC         50032.693137  ...    51578.312545   48944.346536\n",
              "2021-05-16      BTC         47885.625255  ...    50690.802950   47005.102292\n",
              "2021-05-17      BTC         45604.615754  ...    49670.414174   43868.638969\n",
              "2021-05-18      BTC         43144.471291  ...    46622.853437   42102.346430\n",
              "\n",
              "[2787 rows x 5 columns]"
            ]
          },
          "metadata": {},
          "execution_count": 165
        }
      ]
    },
    {
      "cell_type": "code",
      "metadata": {
        "id": "CMRA5-nVmPnh"
      },
      "source": [
        "import datetime "
      ],
      "execution_count": 166,
      "outputs": []
    },
    {
      "cell_type": "code",
      "metadata": {
        "colab": {
          "base_uri": "https://localhost:8080/",
          "height": 390
        },
        "id": "VtYlinvCm8EQ",
        "outputId": "42eb88cb-03e8-45c5-9d32-34f1ac6d4831"
      },
      "source": [
        "# Creating a day of week feature \n",
        "df['day_of_week'] = df.index.dayofweek\n",
        "df.head(10)"
      ],
      "execution_count": 167,
      "outputs": [
        {
          "output_type": "execute_result",
          "data": {
            "text/html": [
              "<div>\n",
              "<style scoped>\n",
              "    .dataframe tbody tr th:only-of-type {\n",
              "        vertical-align: middle;\n",
              "    }\n",
              "\n",
              "    .dataframe tbody tr th {\n",
              "        vertical-align: top;\n",
              "    }\n",
              "\n",
              "    .dataframe thead th {\n",
              "        text-align: right;\n",
              "    }\n",
              "</style>\n",
              "<table border=\"1\" class=\"dataframe\">\n",
              "  <thead>\n",
              "    <tr style=\"text-align: right;\">\n",
              "      <th></th>\n",
              "      <th>Currency</th>\n",
              "      <th>Closing Price (USD)</th>\n",
              "      <th>24h Open (USD)</th>\n",
              "      <th>24h High (USD)</th>\n",
              "      <th>24h Low (USD)</th>\n",
              "      <th>day_of_week</th>\n",
              "    </tr>\n",
              "    <tr>\n",
              "      <th>Date</th>\n",
              "      <th></th>\n",
              "      <th></th>\n",
              "      <th></th>\n",
              "      <th></th>\n",
              "      <th></th>\n",
              "      <th></th>\n",
              "    </tr>\n",
              "  </thead>\n",
              "  <tbody>\n",
              "    <tr>\n",
              "      <th>2013-10-01</th>\n",
              "      <td>BTC</td>\n",
              "      <td>123.65499</td>\n",
              "      <td>124.30466</td>\n",
              "      <td>124.75166</td>\n",
              "      <td>122.56349</td>\n",
              "      <td>1</td>\n",
              "    </tr>\n",
              "    <tr>\n",
              "      <th>2013-10-02</th>\n",
              "      <td>BTC</td>\n",
              "      <td>125.45500</td>\n",
              "      <td>123.65499</td>\n",
              "      <td>125.75850</td>\n",
              "      <td>123.63383</td>\n",
              "      <td>2</td>\n",
              "    </tr>\n",
              "    <tr>\n",
              "      <th>2013-10-03</th>\n",
              "      <td>BTC</td>\n",
              "      <td>108.58483</td>\n",
              "      <td>125.45500</td>\n",
              "      <td>125.66566</td>\n",
              "      <td>83.32833</td>\n",
              "      <td>3</td>\n",
              "    </tr>\n",
              "    <tr>\n",
              "      <th>2013-10-04</th>\n",
              "      <td>BTC</td>\n",
              "      <td>118.67466</td>\n",
              "      <td>108.58483</td>\n",
              "      <td>118.67500</td>\n",
              "      <td>107.05816</td>\n",
              "      <td>4</td>\n",
              "    </tr>\n",
              "    <tr>\n",
              "      <th>2013-10-05</th>\n",
              "      <td>BTC</td>\n",
              "      <td>121.33866</td>\n",
              "      <td>118.67466</td>\n",
              "      <td>121.93633</td>\n",
              "      <td>118.00566</td>\n",
              "      <td>5</td>\n",
              "    </tr>\n",
              "    <tr>\n",
              "      <th>2013-10-06</th>\n",
              "      <td>BTC</td>\n",
              "      <td>120.65533</td>\n",
              "      <td>121.33866</td>\n",
              "      <td>121.85216</td>\n",
              "      <td>120.55450</td>\n",
              "      <td>6</td>\n",
              "    </tr>\n",
              "    <tr>\n",
              "      <th>2013-10-07</th>\n",
              "      <td>BTC</td>\n",
              "      <td>121.79500</td>\n",
              "      <td>120.65533</td>\n",
              "      <td>121.99166</td>\n",
              "      <td>120.43199</td>\n",
              "      <td>0</td>\n",
              "    </tr>\n",
              "    <tr>\n",
              "      <th>2013-10-08</th>\n",
              "      <td>BTC</td>\n",
              "      <td>123.03300</td>\n",
              "      <td>121.79500</td>\n",
              "      <td>123.64016</td>\n",
              "      <td>121.35066</td>\n",
              "      <td>1</td>\n",
              "    </tr>\n",
              "    <tr>\n",
              "      <th>2013-10-09</th>\n",
              "      <td>BTC</td>\n",
              "      <td>124.04900</td>\n",
              "      <td>123.03300</td>\n",
              "      <td>124.78350</td>\n",
              "      <td>122.59266</td>\n",
              "      <td>2</td>\n",
              "    </tr>\n",
              "    <tr>\n",
              "      <th>2013-10-10</th>\n",
              "      <td>BTC</td>\n",
              "      <td>125.96116</td>\n",
              "      <td>124.04900</td>\n",
              "      <td>128.01683</td>\n",
              "      <td>123.81966</td>\n",
              "      <td>3</td>\n",
              "    </tr>\n",
              "  </tbody>\n",
              "</table>\n",
              "</div>"
            ],
            "text/plain": [
              "           Currency  Closing Price (USD)  ...  24h Low (USD)  day_of_week\n",
              "Date                                      ...                            \n",
              "2013-10-01      BTC            123.65499  ...      122.56349            1\n",
              "2013-10-02      BTC            125.45500  ...      123.63383            2\n",
              "2013-10-03      BTC            108.58483  ...       83.32833            3\n",
              "2013-10-04      BTC            118.67466  ...      107.05816            4\n",
              "2013-10-05      BTC            121.33866  ...      118.00566            5\n",
              "2013-10-06      BTC            120.65533  ...      120.55450            6\n",
              "2013-10-07      BTC            121.79500  ...      120.43199            0\n",
              "2013-10-08      BTC            123.03300  ...      121.35066            1\n",
              "2013-10-09      BTC            124.04900  ...      122.59266            2\n",
              "2013-10-10      BTC            125.96116  ...      123.81966            3\n",
              "\n",
              "[10 rows x 6 columns]"
            ]
          },
          "metadata": {},
          "execution_count": 167
        }
      ]
    },
    {
      "cell_type": "code",
      "metadata": {
        "id": "ppVyHOd9pZUC"
      },
      "source": [
        "# Defining the hyper parameters \n",
        "HORIZON = 1 \n",
        "WINDOW_SIZE = 7 \n",
        "\n",
        "bitcoin_prices_windowed['day_of_week'] = bitcoin_prices_windowed.index.dayofweek"
      ],
      "execution_count": 168,
      "outputs": []
    },
    {
      "cell_type": "code",
      "metadata": {
        "id": "Z6zN_LcoqCca"
      },
      "source": [
        "# Getting three kinds of data (univariate , multivariate and the day of week)\n",
        "\n",
        "# Univariate data \n",
        "full_windows , full_labels = make_windows_scaled(prices)\n",
        "train_windows , test_windows , train_labels , test_labels = make_train_test_splits(full_windows , full_labels)\n",
        "\n",
        "# Multivaritate dat \n",
        "X = bitcoin_prices_windowed.dropna().drop('Price' , axis = 1).astype(np.float32)\n",
        "X_scaled = scaler.fit_transform(X)\n",
        "y = bitcoin_prices_windowed.dropna()['Price'].astype(np.float32)\n",
        "\n",
        "# Day of week \n",
        "day_of_week = bitcoin_prices_windowed.dropna()['day_of_week'].to_list()"
      ],
      "execution_count": 169,
      "outputs": []
    },
    {
      "cell_type": "code",
      "metadata": {
        "colab": {
          "base_uri": "https://localhost:8080/"
        },
        "id": "4YCJnEBEzj69",
        "outputId": "898f8ea3-7283-4d0c-9582-cc0be755531d"
      },
      "source": [
        "# Checking the shapes \n",
        "print(full_windows.shape , full_labels.shape)\n",
        "print(X.shape , y.shape)\n",
        "print(len(day_of_week))"
      ],
      "execution_count": 170,
      "outputs": [
        {
          "output_type": "stream",
          "name": "stdout",
          "text": [
            "(2780, 7) (2780, 1)\n",
            "(2780, 9) (2780,)\n",
            "2780\n"
          ]
        }
      ]
    },
    {
      "cell_type": "code",
      "metadata": {
        "colab": {
          "base_uri": "https://localhost:8080/"
        },
        "id": "CvJBEkZR4XVp",
        "outputId": "abfcb196-424a-4e88-e361-196fbe4a9d94"
      },
      "source": [
        "# Splitting the multivariate and the day_of_week to train and test splits \n",
        "split_size = int(len(X) * 0.8)\n",
        "train_block_rewards , test_block_rewards = X[:split_size] , X[split_size:]\n",
        "train_days , test_days = day_of_week[:split_size] , day_of_week[split_size:]\n",
        " \n",
        "len(train_block_rewards), len(train_days) , len(test_block_rewards) , len(test_days)"
      ],
      "execution_count": 171,
      "outputs": [
        {
          "output_type": "execute_result",
          "data": {
            "text/plain": [
              "(2224, 2224, 556, 556)"
            ]
          },
          "metadata": {},
          "execution_count": 171
        }
      ]
    },
    {
      "cell_type": "code",
      "metadata": {
        "colab": {
          "base_uri": "https://localhost:8080/"
        },
        "id": "lQd1NpWSzke0",
        "outputId": "6519417a-f08d-4fa4-dc19-20e64cbfc51a"
      },
      "source": [
        "# Building a performant dataset for train and test \n",
        "\n",
        "train_data_tribid = tf.data.Dataset.from_tensor_slices((train_windows , \n",
        "                                                        train_block_rewards , \n",
        "                                                        train_days))\n",
        "\n",
        "train_labels_tribid = tf.data.Dataset.from_tensor_slices(train_labels)\n",
        "\n",
        "# The test/val split \n",
        "test_data_tribid = tf.data.Dataset.from_tensor_slices((test_windows , \n",
        "                                                       test_block_rewards , \n",
        "                                                       test_days))\n",
        "\n",
        "test_labels_tribid = tf.data.Dataset.from_tensor_slices(test_labels)\n",
        "\n",
        "# Zipping the data and labels into one complete dataset \n",
        "tribid_train_ds = tf.data.Dataset.zip((train_data_tribid , train_labels_tribid))\n",
        "tribid_test_ds = tf.data.Dataset.zip((test_data_tribid , test_labels_tribid))\n",
        "\n",
        "# Applying prefetch and batching the dataset \n",
        "tribid_train_ds = tribid_train_ds.batch(128).prefetch(tf.data.AUTOTUNE)\n",
        "tribid_test_ds = tribid_test_ds.batch(128).prefetch(tf.data.AUTOTUNE)\n",
        "\n",
        "tribid_train_ds ,tribid_test_ds"
      ],
      "execution_count": 172,
      "outputs": [
        {
          "output_type": "execute_result",
          "data": {
            "text/plain": [
              "(<PrefetchDataset shapes: (((None, 7), (None, 9), (None,)), (None, 1)), types: ((tf.float64, tf.float32, tf.int32), tf.float64)>,\n",
              " <PrefetchDataset shapes: (((None, 7), (None, 9), (None,)), (None, 1)), types: ((tf.float64, tf.float32, tf.int32), tf.float64)>)"
            ]
          },
          "metadata": {},
          "execution_count": 172
        }
      ]
    },
    {
      "cell_type": "code",
      "metadata": {
        "colab": {
          "base_uri": "https://localhost:8080/"
        },
        "id": "tyhukkUSzmu8",
        "outputId": "ad33049b-ef97-4c4a-d5fc-ce6ab15f50a9"
      },
      "source": [
        "# Building a tribid model \n",
        "\n",
        "input_windows = layers.Input(shape = (7,) , dtype=tf.float64 , name='Window Inputs')\n",
        "exp_layer_1 = layers.Lambda(lambda x: tf.expand_dims(x , axis = 1))(input_windows)\n",
        "conv1 = layers.Conv1D(filters= 32 , kernel_size=5 , padding='causal' , activation= 'relu')(exp_layer_1)\n",
        "window_model = tf.keras.Model(input_windows , conv1 , name = 'Windowed model')\n",
        "\n",
        "input_blocks = layers.Input(shape = (9,) , dtype= tf.float32 , name ='Block rewards input')\n",
        "exp_layer_2 = layers.Lambda(lambda x: tf.expand_dims(x , axis = 1))(input_blocks)\n",
        "conv2 = layers.Conv1D(filters = 32 , kernel_size= 5 , activation= 'relu' , padding = 'causal')(exp_layer_2)\n",
        "block_model = tf.keras.Model(input_blocks , conv2 , name = 'Block rewards model')\n",
        "\n",
        "\n",
        "# Use expand dims to match the same shape output (None , 1 , 128)\n",
        "# whereas without expand dims it would be (None , 128)\n",
        "input_days = layers.Input(shape= (1,) , dtype = tf.int32 , name ='Days of week Input')\n",
        "exp_layer_3 = layers.Lambda(lambda x: tf.expand_dims(x , axis = 1))(input_days)\n",
        "dense = layers.Dense(128 , activation= 'relu')(exp_layer_3)\n",
        "days_model = tf.keras.Model(input_days , dense , name = 'Days Model')\n",
        "\n",
        "# Concatenating the inputs \n",
        "concat = layers.Concatenate(name = 'combined_outputs' )([window_model.output , \n",
        "                                                           block_model.output , \n",
        "                                                           days_model.output])\n",
        "\n",
        "# Creating the output layer \n",
        "dropout = layers.Dropout(0.4)(concat)\n",
        "output_layer = layers.Dense(1 , activation = 'linear')(dropout)\n",
        "\n",
        "# Putting everything into a model \n",
        "tribid_model = tf.keras.Model(inputs = [window_model.input , \n",
        "                                        block_model.input , \n",
        "                                        days_model.input] , \n",
        "                              outputs = output_layer)\n",
        "tribid_model.summary()\n",
        "\n"
      ],
      "execution_count": 173,
      "outputs": [
        {
          "output_type": "stream",
          "name": "stdout",
          "text": [
            "Model: \"model_3\"\n",
            "__________________________________________________________________________________________________\n",
            "Layer (type)                    Output Shape         Param #     Connected to                     \n",
            "==================================================================================================\n",
            "Window Inputs (InputLayer)      [(None, 7)]          0                                            \n",
            "__________________________________________________________________________________________________\n",
            "Block rewards input (InputLayer [(None, 9)]          0                                            \n",
            "__________________________________________________________________________________________________\n",
            "Days of week Input (InputLayer) [(None, 1)]          0                                            \n",
            "__________________________________________________________________________________________________\n",
            "lambda_3 (Lambda)               (None, 1, 7)         0           Window Inputs[0][0]              \n",
            "__________________________________________________________________________________________________\n",
            "lambda_4 (Lambda)               (None, 1, 9)         0           Block rewards input[0][0]        \n",
            "__________________________________________________________________________________________________\n",
            "lambda_5 (Lambda)               (None, 1, 1)         0           Days of week Input[0][0]         \n",
            "__________________________________________________________________________________________________\n",
            "conv1d_2 (Conv1D)               (None, 1, 32)        1152        lambda_3[0][0]                   \n",
            "__________________________________________________________________________________________________\n",
            "conv1d_3 (Conv1D)               (None, 1, 32)        1472        lambda_4[0][0]                   \n",
            "__________________________________________________________________________________________________\n",
            "dense_103 (Dense)               (None, 1, 128)       256         lambda_5[0][0]                   \n",
            "__________________________________________________________________________________________________\n",
            "combined_outputs (Concatenate)  (None, 1, 192)       0           conv1d_2[0][0]                   \n",
            "                                                                 conv1d_3[0][0]                   \n",
            "                                                                 dense_103[0][0]                  \n",
            "__________________________________________________________________________________________________\n",
            "dropout_1 (Dropout)             (None, 1, 192)       0           combined_outputs[0][0]           \n",
            "__________________________________________________________________________________________________\n",
            "dense_104 (Dense)               (None, 1, 1)         193         dropout_1[0][0]                  \n",
            "==================================================================================================\n",
            "Total params: 3,073\n",
            "Trainable params: 3,073\n",
            "Non-trainable params: 0\n",
            "__________________________________________________________________________________________________\n"
          ]
        }
      ]
    },
    {
      "cell_type": "code",
      "metadata": {
        "colab": {
          "base_uri": "https://localhost:8080/"
        },
        "id": "iDB8vFtu17Rp",
        "outputId": "74223741-7d90-461c-f146-97f9b3055d0c"
      },
      "source": [
        "# Compiling and fitting the model \n",
        "tribid_model.compile(loss = 'mae' , \n",
        "                     optimizer = 'adam' , metrics = ['mae'])\n",
        "\n",
        "# Fitting the model \n",
        "tribid_model.fit(tribid_train_ds , \n",
        "                 epochs = 20,  \n",
        "                 validation_data = tribid_test_ds , verbose = 2)"
      ],
      "execution_count": 174,
      "outputs": [
        {
          "output_type": "stream",
          "name": "stdout",
          "text": [
            "Epoch 1/20\n",
            "18/18 - 1s - loss: 173.1271 - mae: 173.1271 - val_loss: 124.0174 - val_mae: 124.0174\n",
            "Epoch 2/20\n",
            "18/18 - 0s - loss: 96.4324 - mae: 96.4324 - val_loss: 37.3842 - val_mae: 37.3842\n",
            "Epoch 3/20\n",
            "18/18 - 0s - loss: 58.4491 - mae: 58.4491 - val_loss: 40.1555 - val_mae: 40.1555\n",
            "Epoch 4/20\n",
            "18/18 - 0s - loss: 25.2752 - mae: 25.2752 - val_loss: 25.2996 - val_mae: 25.2996\n",
            "Epoch 5/20\n",
            "18/18 - 0s - loss: 6.4564 - mae: 6.4564 - val_loss: 7.1498 - val_mae: 7.1498\n",
            "Epoch 6/20\n",
            "18/18 - 0s - loss: 3.2152 - mae: 3.2152 - val_loss: 14.4171 - val_mae: 14.4171\n",
            "Epoch 7/20\n",
            "18/18 - 0s - loss: 1.3200 - mae: 1.3200 - val_loss: 5.2407 - val_mae: 5.2407\n",
            "Epoch 8/20\n",
            "18/18 - 0s - loss: 0.3744 - mae: 0.3744 - val_loss: 0.3289 - val_mae: 0.3289\n",
            "Epoch 9/20\n",
            "18/18 - 0s - loss: 0.2766 - mae: 0.2766 - val_loss: 0.3679 - val_mae: 0.3679\n",
            "Epoch 10/20\n",
            "18/18 - 0s - loss: 0.2502 - mae: 0.2502 - val_loss: 0.8294 - val_mae: 0.8294\n",
            "Epoch 11/20\n",
            "18/18 - 0s - loss: 0.4526 - mae: 0.4526 - val_loss: 1.4310 - val_mae: 1.4310\n",
            "Epoch 12/20\n",
            "18/18 - 0s - loss: 0.2831 - mae: 0.2831 - val_loss: 0.7019 - val_mae: 0.7019\n",
            "Epoch 13/20\n",
            "18/18 - 0s - loss: 0.2143 - mae: 0.2143 - val_loss: 0.2403 - val_mae: 0.2403\n",
            "Epoch 14/20\n",
            "18/18 - 0s - loss: 0.1896 - mae: 0.1896 - val_loss: 0.2570 - val_mae: 0.2570\n",
            "Epoch 15/20\n",
            "18/18 - 0s - loss: 0.1637 - mae: 0.1637 - val_loss: 0.2061 - val_mae: 0.2061\n",
            "Epoch 16/20\n",
            "18/18 - 0s - loss: 0.1283 - mae: 0.1283 - val_loss: 0.2460 - val_mae: 0.2460\n",
            "Epoch 17/20\n",
            "18/18 - 0s - loss: 0.1077 - mae: 0.1077 - val_loss: 0.1839 - val_mae: 0.1839\n",
            "Epoch 18/20\n",
            "18/18 - 0s - loss: 0.1213 - mae: 0.1213 - val_loss: 0.2423 - val_mae: 0.2423\n",
            "Epoch 19/20\n",
            "18/18 - 0s - loss: 0.0994 - mae: 0.0994 - val_loss: 0.2242 - val_mae: 0.2242\n",
            "Epoch 20/20\n",
            "18/18 - 0s - loss: 0.1007 - mae: 0.1007 - val_loss: 0.1563 - val_mae: 0.1563\n"
          ]
        },
        {
          "output_type": "execute_result",
          "data": {
            "text/plain": [
              "<keras.callbacks.History at 0x7f51aa476510>"
            ]
          },
          "metadata": {},
          "execution_count": 174
        }
      ]
    },
    {
      "cell_type": "code",
      "metadata": {
        "colab": {
          "base_uri": "https://localhost:8080/"
        },
        "id": "zzCKgn8598cB",
        "outputId": "cefb2a43-c5c7-4e88-c02f-952c57239768"
      },
      "source": [
        "# Evaluating the model \n",
        "tribid_model.evaluate(tribid_test_ds)"
      ],
      "execution_count": 175,
      "outputs": [
        {
          "output_type": "stream",
          "name": "stdout",
          "text": [
            "5/5 [==============================] - 0s 3ms/step - loss: 0.1563 - mae: 0.1563\n"
          ]
        },
        {
          "output_type": "execute_result",
          "data": {
            "text/plain": [
              "[0.15634702146053314, 0.15634702146053314]"
            ]
          },
          "metadata": {},
          "execution_count": 175
        }
      ]
    },
    {
      "cell_type": "markdown",
      "metadata": {
        "id": "uaqbrn-xnnjW"
      },
      "source": [
        "### 6. Make prediction intervals for future forecasts. To do so, one way would be to train an ensemble model on all of the data, make future forecasts with it and calculate the prediction intervals of the ensemble just like we did for model_8."
      ]
    },
    {
      "cell_type": "markdown",
      "metadata": {
        "id": "EuGAuQZpovQ9"
      },
      "source": [
        "**Things to do**\n",
        "- Train an ensemble model on the whole data. \n",
        "- Make one dataset (no test/valid) which will use to predict future forecasts of bitcoins. \n",
        "- Make a function that will take the number of iterations and different loss functions to train the model with. \n"
      ]
    },
    {
      "cell_type": "code",
      "metadata": {
        "colab": {
          "base_uri": "https://localhost:8080/"
        },
        "id": "gS_NBQuqt5Bb",
        "outputId": "457d54dd-b86b-4fe8-f95b-64b07999e3b4"
      },
      "source": [
        "# Make one whole dataset (with the updated bitcoin prices 2014 - 2021)\n",
        "\n",
        "X_all = bitcoin_prices_windowed.drop(['Price' , 'block_reward' , 'day_of_week'] , axis = 1).dropna().to_numpy()\n",
        "y_all = bitcoin_prices_windowed.dropna()['Price'].to_numpy()\n",
        "\n",
        "whole_ds = tf.data.Dataset.from_tensor_slices((X_all , y_all))\n",
        "whole_ds = whole_ds.batch(128).prefetch(tf.data.AUTOTUNE)\n",
        "whole_ds"
      ],
      "execution_count": 176,
      "outputs": [
        {
          "output_type": "execute_result",
          "data": {
            "text/plain": [
              "<PrefetchDataset shapes: ((None, 7), (None,)), types: (tf.float64, tf.float64)>"
            ]
          },
          "metadata": {},
          "execution_count": 176
        }
      ]
    },
    {
      "cell_type": "code",
      "metadata": {
        "id": "a5zZCOdSvBDX"
      },
      "source": [
        "# Creating the function \n",
        "\n",
        "def get_ensemble_models(horizon = HORIZON , \n",
        "                        dataset = whole_ds , \n",
        "                        num_iter = 10 , \n",
        "                        num_epochs = 100 , \n",
        "                        loss_fns = ['mae' , 'mse' , 'mape']):\n",
        "  \n",
        "\n",
        "  # Make a empty list of the ensemble models \n",
        "  ensemble_models = []\n",
        "\n",
        "  # Create num_iter number of models per loss functions \n",
        "  for i in range(num_iter):\n",
        "    for loss_functions in loss_fns:\n",
        "      print(f'Optimizing model by reducing: {loss_functions} for {num_epochs} epochs, model number: {i}')\n",
        "\n",
        "      model = tf.keras.Sequential([\n",
        "          layers.Dense(128 , kernel_initializer='he_normal' , activation= 'relu'),\n",
        "          layers.Dense(128 , kernel_initializer= 'he_normal', activation= 'relu'),\n",
        "          layers.Dense(HORIZON)\n",
        "      ])\n",
        "\n",
        "      # Compiling the model \n",
        "      model.compile(loss = loss_functions , \n",
        "                    optimizer = 'adam' , metrics = ['mae' , 'mse'])\n",
        "      \n",
        "      # Fit the model \n",
        "      model.fit(dataset , \n",
        "                epochs = num_epochs , \n",
        "                verbose = 0,\n",
        "                callbacks=[tf.keras.callbacks.EarlyStopping(monitor=\"loss\",\n",
        "                                                            patience=200,\n",
        "                                                            restore_best_weights=True),\n",
        "                           tf.keras.callbacks.ReduceLROnPlateau(monitor=\"loss\",\n",
        "                                                                patience=100,\n",
        "                                                                verbose=1)])\n",
        "      \n",
        "      ensemble_models.append(model)\n",
        "\n",
        "  return ensemble_models"
      ],
      "execution_count": 177,
      "outputs": []
    },
    {
      "cell_type": "code",
      "metadata": {
        "colab": {
          "base_uri": "https://localhost:8080/"
        },
        "id": "btGEQNfLvCXL",
        "outputId": "ff374850-758c-4f44-d9c0-fdfd86416334"
      },
      "source": [
        "# Running the above function \n",
        "ensemble_models = get_ensemble_models(num_iter=5 , num_epochs= 1000 , horizon = 1)"
      ],
      "execution_count": 178,
      "outputs": [
        {
          "output_type": "stream",
          "name": "stdout",
          "text": [
            "Optimizing model by reducing: mae for 1000 epochs, model number: 0\n",
            "\n",
            "Epoch 00215: ReduceLROnPlateau reducing learning rate to 0.00010000000474974513.\n",
            "\n",
            "Epoch 00418: ReduceLROnPlateau reducing learning rate to 1.0000000474974514e-05.\n",
            "Optimizing model by reducing: mse for 1000 epochs, model number: 0\n",
            "\n",
            "Epoch 00138: ReduceLROnPlateau reducing learning rate to 0.00010000000474974513.\n",
            "\n",
            "Epoch 00422: ReduceLROnPlateau reducing learning rate to 1.0000000474974514e-05.\n",
            "Optimizing model by reducing: mape for 1000 epochs, model number: 0\n",
            "\n",
            "Epoch 00259: ReduceLROnPlateau reducing learning rate to 0.00010000000474974513.\n",
            "\n",
            "Epoch 00359: ReduceLROnPlateau reducing learning rate to 1.0000000474974514e-05.\n",
            "Optimizing model by reducing: mae for 1000 epochs, model number: 1\n",
            "\n",
            "Epoch 00269: ReduceLROnPlateau reducing learning rate to 0.00010000000474974513.\n",
            "\n",
            "Epoch 00386: ReduceLROnPlateau reducing learning rate to 1.0000000474974514e-05.\n",
            "Optimizing model by reducing: mse for 1000 epochs, model number: 1\n",
            "\n",
            "Epoch 00337: ReduceLROnPlateau reducing learning rate to 0.00010000000474974513.\n",
            "\n",
            "Epoch 00664: ReduceLROnPlateau reducing learning rate to 1.0000000474974514e-05.\n",
            "Optimizing model by reducing: mape for 1000 epochs, model number: 1\n",
            "\n",
            "Epoch 00142: ReduceLROnPlateau reducing learning rate to 0.00010000000474974513.\n",
            "\n",
            "Epoch 00251: ReduceLROnPlateau reducing learning rate to 1.0000000474974514e-05.\n",
            "\n",
            "Epoch 00468: ReduceLROnPlateau reducing learning rate to 1.0000000656873453e-06.\n",
            "Optimizing model by reducing: mae for 1000 epochs, model number: 2\n",
            "\n",
            "Epoch 00292: ReduceLROnPlateau reducing learning rate to 0.00010000000474974513.\n",
            "\n",
            "Epoch 00412: ReduceLROnPlateau reducing learning rate to 1.0000000474974514e-05.\n",
            "Optimizing model by reducing: mse for 1000 epochs, model number: 2\n",
            "\n",
            "Epoch 00173: ReduceLROnPlateau reducing learning rate to 0.00010000000474974513.\n",
            "\n",
            "Epoch 00620: ReduceLROnPlateau reducing learning rate to 1.0000000474974514e-05.\n",
            "Optimizing model by reducing: mape for 1000 epochs, model number: 2\n",
            "\n",
            "Epoch 00214: ReduceLROnPlateau reducing learning rate to 0.00010000000474974513.\n",
            "\n",
            "Epoch 00320: ReduceLROnPlateau reducing learning rate to 1.0000000474974514e-05.\n",
            "\n",
            "Epoch 00421: ReduceLROnPlateau reducing learning rate to 1.0000000656873453e-06.\n",
            "Optimizing model by reducing: mae for 1000 epochs, model number: 3\n",
            "\n",
            "Epoch 00101: ReduceLROnPlateau reducing learning rate to 0.00010000000474974513.\n",
            "\n",
            "Epoch 00258: ReduceLROnPlateau reducing learning rate to 1.0000000474974514e-05.\n",
            "Optimizing model by reducing: mse for 1000 epochs, model number: 3\n",
            "\n",
            "Epoch 00164: ReduceLROnPlateau reducing learning rate to 0.00010000000474974513.\n",
            "\n",
            "Epoch 00432: ReduceLROnPlateau reducing learning rate to 1.0000000474974514e-05.\n",
            "Optimizing model by reducing: mape for 1000 epochs, model number: 3\n",
            "\n",
            "Epoch 00218: ReduceLROnPlateau reducing learning rate to 0.00010000000474974513.\n",
            "\n",
            "Epoch 00318: ReduceLROnPlateau reducing learning rate to 1.0000000474974514e-05.\n",
            "Optimizing model by reducing: mae for 1000 epochs, model number: 4\n",
            "\n",
            "Epoch 00241: ReduceLROnPlateau reducing learning rate to 0.00010000000474974513.\n",
            "\n",
            "Epoch 00360: ReduceLROnPlateau reducing learning rate to 1.0000000474974514e-05.\n",
            "Optimizing model by reducing: mse for 1000 epochs, model number: 4\n",
            "\n",
            "Epoch 00251: ReduceLROnPlateau reducing learning rate to 0.00010000000474974513.\n",
            "\n",
            "Epoch 00527: ReduceLROnPlateau reducing learning rate to 1.0000000474974514e-05.\n",
            "Optimizing model by reducing: mape for 1000 epochs, model number: 4\n",
            "\n",
            "Epoch 00277: ReduceLROnPlateau reducing learning rate to 0.00010000000474974513.\n",
            "\n",
            "Epoch 00379: ReduceLROnPlateau reducing learning rate to 1.0000000474974514e-05.\n",
            "\n",
            "Epoch 00505: ReduceLROnPlateau reducing learning rate to 1.0000000656873453e-06.\n"
          ]
        }
      ]
    },
    {
      "cell_type": "code",
      "metadata": {
        "id": "jM4bW2EN__jH"
      },
      "source": [
        "# Making future forecastts of Bitcoins (using the whole data)\n",
        "def make_future_forecast(values , model_list , into_future , window_size):\n",
        "\n",
        "  future_forecast = []\n",
        "  last_window = values[-window_size:]\n",
        "\n",
        "  for _ in range(into_future): \n",
        "    for model in model_list:\n",
        "    \n",
        "      future_pred = model.predict(tf.expand_dims(last_window, axis= 0))\n",
        "      #future_pred = model.predict(last_window)\n",
        "      print(f'Predicing on: \\n {last_window} --> Prediction: {tf.squeeze(future_pred).numpy()}\\n')\n",
        "\n",
        "      future_forecast.append(tf.squeeze(future_pred).numpy())\n",
        "\n",
        "      # Update the last window \n",
        "      last_window = np.append(last_window , future_pred)[-window_size:]\n",
        "  return future_forecast"
      ],
      "execution_count": 179,
      "outputs": []
    },
    {
      "cell_type": "code",
      "metadata": {
        "colab": {
          "base_uri": "https://localhost:8080/"
        },
        "id": "SG-C8sGguG-o",
        "outputId": "572c7859-d3fb-4277-92c8-32653abe568d"
      },
      "source": [
        "# Getting the future forecast \n",
        "future_forecast = make_future_forecast(y_all , ensemble_models , into_future= 14 , window_size = 7 )"
      ],
      "execution_count": 180,
      "outputs": [
        {
          "output_type": "stream",
          "name": "stdout",
          "text": [
            "Predicing on: \n",
            " [56573.5554719  52147.82118698 49764.1320816  50032.69313676\n",
            " 47885.62525472 45604.61575361 43144.47129086] --> Prediction: 56175.19921875\n",
            "\n",
            "Predicing on: \n",
            " [52147.82118698 49764.1320816  50032.69313676 47885.62525472\n",
            " 45604.61575361 43144.47129086 56175.19921875] --> Prediction: 53977.78125\n",
            "\n",
            "Predicing on: \n",
            " [49764.1320816  50032.69313676 47885.62525472 45604.61575361\n",
            " 43144.47129086 56175.19921875 53977.78125   ] --> Prediction: 48286.578125\n",
            "\n",
            "Predicing on: \n",
            " [50032.69313676 47885.62525472 45604.61575361 43144.47129086\n",
            " 56175.19921875 53977.78125    48286.578125  ] --> Prediction: 49753.5859375\n",
            "\n",
            "Predicing on: \n",
            " [47885.62525472 45604.61575361 43144.47129086 56175.19921875\n",
            " 53977.78125    48286.578125   49753.5859375 ] --> Prediction: 45806.8046875\n",
            "\n",
            "Predicing on: \n",
            " [45604.61575361 43144.47129086 56175.19921875 53977.78125\n",
            " 48286.578125   49753.5859375  45806.8046875 ] --> Prediction: 45975.1015625\n",
            "\n",
            "Predicing on: \n",
            " [43144.47129086 56175.19921875 53977.78125    48286.578125\n",
            " 49753.5859375  45806.8046875  45975.1015625 ] --> Prediction: 45759.26953125\n",
            "\n",
            "Predicing on: \n",
            " [56175.19921875 53977.78125    48286.578125   49753.5859375\n",
            " 45806.8046875  45975.1015625  45759.26953125] --> Prediction: 56390.80859375\n",
            "\n",
            "Predicing on: \n",
            " [53977.78125    48286.578125   49753.5859375  45806.8046875\n",
            " 45975.1015625  45759.26953125 56390.80859375] --> Prediction: 51704.2265625\n",
            "\n",
            "Predicing on: \n",
            " [48286.578125   49753.5859375  45806.8046875  45975.1015625\n",
            " 45759.26953125 56390.80859375 51704.2265625 ] --> Prediction: 48911.22265625\n",
            "\n",
            "Predicing on: \n",
            " [49753.5859375  45806.8046875  45975.1015625  45759.26953125\n",
            " 56390.80859375 51704.2265625  48911.22265625] --> Prediction: 49763.04296875\n",
            "\n",
            "Predicing on: \n",
            " [45806.8046875  45975.1015625  45759.26953125 56390.80859375\n",
            " 51704.2265625  48911.22265625 49763.04296875] --> Prediction: 45226.55078125\n",
            "\n",
            "Predicing on: \n",
            " [45975.1015625  45759.26953125 56390.80859375 51704.2265625\n",
            " 48911.22265625 49763.04296875 45226.55078125] --> Prediction: 46871.37109375\n",
            "\n",
            "Predicing on: \n",
            " [45759.26953125 56390.80859375 51704.2265625  48911.22265625\n",
            " 49763.04296875 45226.55078125 46871.37109375] --> Prediction: 48359.44921875\n",
            "\n",
            "Predicing on: \n",
            " [56390.80859375 51704.2265625  48911.22265625 49763.04296875\n",
            " 45226.55078125 46871.37109375 48359.44921875] --> Prediction: 56190.0625\n",
            "\n",
            "Predicing on: \n",
            " [51704.2265625  48911.22265625 49763.04296875 45226.55078125\n",
            " 46871.37109375 48359.44921875 56190.0625    ] --> Prediction: 50447.91796875\n",
            "\n",
            "Predicing on: \n",
            " [48911.22265625 49763.04296875 45226.55078125 46871.37109375\n",
            " 48359.44921875 56190.0625     50447.91796875] --> Prediction: 47680.9375\n",
            "\n",
            "Predicing on: \n",
            " [49763.04296875 45226.55078125 46871.37109375 48359.44921875\n",
            " 56190.0625     50447.91796875 47680.9375    ] --> Prediction: 48783.60546875\n",
            "\n",
            "Predicing on: \n",
            " [45226.55078125 46871.37109375 48359.44921875 56190.0625\n",
            " 50447.91796875 47680.9375     48783.60546875] --> Prediction: 44604.85546875\n",
            "\n",
            "Predicing on: \n",
            " [46871.37109375 48359.44921875 56190.0625     50447.91796875\n",
            " 47680.9375     48783.60546875 44604.85546875] --> Prediction: 48243.453125\n",
            "\n",
            "Predicing on: \n",
            " [48359.44921875 56190.0625     50447.91796875 47680.9375\n",
            " 48783.60546875 44604.85546875 48243.453125  ] --> Prediction: 48603.375\n",
            "\n",
            "Predicing on: \n",
            " [56190.0625     50447.91796875 47680.9375     48783.60546875\n",
            " 44604.85546875 48243.453125   48603.375     ] --> Prediction: 55083.24609375\n",
            "\n",
            "Predicing on: \n",
            " [50447.91796875 47680.9375     48783.60546875 44604.85546875\n",
            " 48243.453125   48603.375      55083.24609375] --> Prediction: 51353.25390625\n",
            "\n",
            "Predicing on: \n",
            " [47680.9375     48783.60546875 44604.85546875 48243.453125\n",
            " 48603.375      55083.24609375 51353.25390625] --> Prediction: 47439.8828125\n",
            "\n",
            "Predicing on: \n",
            " [48783.60546875 44604.85546875 48243.453125   48603.375\n",
            " 55083.24609375 51353.25390625 47439.8828125 ] --> Prediction: 48293.5\n",
            "\n",
            "Predicing on: \n",
            " [44604.85546875 48243.453125   48603.375      55083.24609375\n",
            " 51353.25390625 47439.8828125  48293.5       ] --> Prediction: 44489.32421875\n",
            "\n",
            "Predicing on: \n",
            " [48243.453125   48603.375      55083.24609375 51353.25390625\n",
            " 47439.8828125  48293.5        44489.32421875] --> Prediction: 47991.95703125\n",
            "\n",
            "Predicing on: \n",
            " [48603.375      55083.24609375 51353.25390625 47439.8828125\n",
            " 48293.5        44489.32421875 47991.95703125] --> Prediction: 50296.58203125\n",
            "\n",
            "Predicing on: \n",
            " [55083.24609375 51353.25390625 47439.8828125  48293.5\n",
            " 44489.32421875 47991.95703125 50296.58203125] --> Prediction: 56037.671875\n",
            "\n",
            "Predicing on: \n",
            " [51353.25390625 47439.8828125  48293.5        44489.32421875\n",
            " 47991.95703125 50296.58203125 56037.671875  ] --> Prediction: 50213.27734375\n",
            "\n",
            "Predicing on: \n",
            " [47439.8828125  48293.5        44489.32421875 47991.95703125\n",
            " 50296.58203125 56037.671875   50213.27734375] --> Prediction: 47794.171875\n",
            "\n",
            "Predicing on: \n",
            " [48293.5        44489.32421875 47991.95703125 50296.58203125\n",
            " 56037.671875   50213.27734375 47794.171875  ] --> Prediction: 47922.98046875\n",
            "\n",
            "Predicing on: \n",
            " [44489.32421875 47991.95703125 50296.58203125 56037.671875\n",
            " 50213.27734375 47794.171875   47922.98046875] --> Prediction: 44947.21875\n",
            "\n",
            "Predicing on: \n",
            " [47991.95703125 50296.58203125 56037.671875   50213.27734375\n",
            " 47794.171875   47922.98046875 44947.21875   ] --> Prediction: 48375.6171875\n",
            "\n",
            "Predicing on: \n",
            " [50296.58203125 56037.671875   50213.27734375 47794.171875\n",
            " 47922.98046875 44947.21875    48375.6171875 ] --> Prediction: 51772.734375\n",
            "\n",
            "Predicing on: \n",
            " [56037.671875   50213.27734375 47794.171875   47922.98046875\n",
            " 44947.21875    48375.6171875  51772.734375  ] --> Prediction: 55248.34375\n",
            "\n",
            "Predicing on: \n",
            " [50213.27734375 47794.171875   47922.98046875 44947.21875\n",
            " 48375.6171875  51772.734375   55248.34375   ] --> Prediction: 49048.10546875\n",
            "\n",
            "Predicing on: \n",
            " [47794.171875   47922.98046875 44947.21875    48375.6171875\n",
            " 51772.734375   55248.34375    49048.10546875] --> Prediction: 48109.94140625\n",
            "\n",
            "Predicing on: \n",
            " [47922.98046875 44947.21875    48375.6171875  51772.734375\n",
            " 55248.34375    49048.10546875 48109.94140625] --> Prediction: 47497.953125\n",
            "\n",
            "Predicing on: \n",
            " [44947.21875    48375.6171875  51772.734375   55248.34375\n",
            " 49048.10546875 48109.94140625 47497.953125  ] --> Prediction: 44966.90625\n",
            "\n",
            "Predicing on: \n",
            " [48375.6171875  51772.734375   55248.34375    49048.10546875\n",
            " 48109.94140625 47497.953125   44966.90625   ] --> Prediction: 48770.10546875\n",
            "\n",
            "Predicing on: \n",
            " [51772.734375   55248.34375    49048.10546875 48109.94140625\n",
            " 47497.953125   44966.90625    48770.10546875] --> Prediction: 51409.859375\n",
            "\n",
            "Predicing on: \n",
            " [55248.34375    49048.10546875 48109.94140625 47497.953125\n",
            " 44966.90625    48770.10546875 51409.859375  ] --> Prediction: 54158.75390625\n",
            "\n",
            "Predicing on: \n",
            " [49048.10546875 48109.94140625 47497.953125   44966.90625\n",
            " 48770.10546875 51409.859375   54158.75390625] --> Prediction: 48739.78515625\n",
            "\n",
            "Predicing on: \n",
            " [48109.94140625 47497.953125   44966.90625    48770.10546875\n",
            " 51409.859375   54158.75390625 48739.78515625] --> Prediction: 48610.70703125\n",
            "\n",
            "Predicing on: \n",
            " [47497.953125   44966.90625    48770.10546875 51409.859375\n",
            " 54158.75390625 48739.78515625 48610.70703125] --> Prediction: 47363.625\n",
            "\n",
            "Predicing on: \n",
            " [44966.90625    48770.10546875 51409.859375   54158.75390625\n",
            " 48739.78515625 48610.70703125 47363.625     ] --> Prediction: 45015.22265625\n",
            "\n",
            "Predicing on: \n",
            " [48770.10546875 51409.859375   54158.75390625 48739.78515625\n",
            " 48610.70703125 47363.625      45015.22265625] --> Prediction: 49102.53125\n",
            "\n",
            "Predicing on: \n",
            " [51409.859375   54158.75390625 48739.78515625 48610.70703125\n",
            " 47363.625      45015.22265625 49102.53125   ] --> Prediction: 51929.75\n",
            "\n",
            "Predicing on: \n",
            " [54158.75390625 48739.78515625 48610.70703125 47363.625\n",
            " 45015.22265625 49102.53125    51929.75      ] --> Prediction: 53962.76171875\n",
            "\n",
            "Predicing on: \n",
            " [48739.78515625 48610.70703125 47363.625      45015.22265625\n",
            " 49102.53125    51929.75       53962.76171875] --> Prediction: 48106.60546875\n",
            "\n",
            "Predicing on: \n",
            " [48610.70703125 47363.625      45015.22265625 49102.53125\n",
            " 51929.75       53962.76171875 48106.60546875] --> Prediction: 48915.38671875\n",
            "\n",
            "Predicing on: \n",
            " [47363.625      45015.22265625 49102.53125    51929.75\n",
            " 53962.76171875 48106.60546875 48915.38671875] --> Prediction: 46684.4609375\n",
            "\n",
            "Predicing on: \n",
            " [45015.22265625 49102.53125    51929.75       53962.76171875\n",
            " 48106.60546875 48915.38671875 46684.4609375 ] --> Prediction: 45773.8359375\n",
            "\n",
            "Predicing on: \n",
            " [49102.53125    51929.75       53962.76171875 48106.60546875\n",
            " 48915.38671875 46684.4609375  45773.8359375 ] --> Prediction: 49863.203125\n",
            "\n",
            "Predicing on: \n",
            " [51929.75       53962.76171875 48106.60546875 48915.38671875\n",
            " 46684.4609375  45773.8359375  49863.203125  ] --> Prediction: 52461.375\n",
            "\n",
            "Predicing on: \n",
            " [53962.76171875 48106.60546875 48915.38671875 46684.4609375\n",
            " 45773.8359375  49863.203125   52461.375     ] --> Prediction: 52612.60546875\n",
            "\n",
            "Predicing on: \n",
            " [48106.60546875 48915.38671875 46684.4609375  45773.8359375\n",
            " 49863.203125   52461.375      52612.60546875] --> Prediction: 48027.40625\n",
            "\n",
            "Predicing on: \n",
            " [48915.38671875 46684.4609375  45773.8359375  49863.203125\n",
            " 52461.375      52612.60546875 48027.40625   ] --> Prediction: 48855.7109375\n",
            "\n",
            "Predicing on: \n",
            " [46684.4609375  45773.8359375  49863.203125   52461.375\n",
            " 52612.60546875 48027.40625    48855.7109375 ] --> Prediction: 46378.02734375\n",
            "\n",
            "Predicing on: \n",
            " [45773.8359375  49863.203125   52461.375      52612.60546875\n",
            " 48027.40625    48855.7109375  46378.02734375] --> Prediction: 46437.4609375\n",
            "\n",
            "Predicing on: \n",
            " [49863.203125   52461.375      52612.60546875 48027.40625\n",
            " 48855.7109375  46378.02734375 46437.4609375 ] --> Prediction: 50805.31640625\n",
            "\n",
            "Predicing on: \n",
            " [52461.375      52612.60546875 48027.40625    48855.7109375\n",
            " 46378.02734375 46437.4609375  50805.31640625] --> Prediction: 52369.68359375\n",
            "\n",
            "Predicing on: \n",
            " [52612.60546875 48027.40625    48855.7109375  46378.02734375\n",
            " 46437.4609375  50805.31640625 52369.68359375] --> Prediction: 52112.84765625\n",
            "\n",
            "Predicing on: \n",
            " [48027.40625    48855.7109375  46378.02734375 46437.4609375\n",
            " 50805.31640625 52369.68359375 52112.84765625] --> Prediction: 48653.1875\n",
            "\n",
            "Predicing on: \n",
            " [48855.7109375  46378.02734375 46437.4609375  50805.31640625\n",
            " 52369.68359375 52112.84765625 48653.1875    ] --> Prediction: 48770.8125\n",
            "\n",
            "Predicing on: \n",
            " [46378.02734375 46437.4609375  50805.31640625 52369.68359375\n",
            " 52112.84765625 48653.1875     48770.8125    ] --> Prediction: 45977.984375\n",
            "\n",
            "Predicing on: \n",
            " [46437.4609375  50805.31640625 52369.68359375 52112.84765625\n",
            " 48653.1875     48770.8125     45977.984375  ] --> Prediction: 46981.640625\n",
            "\n",
            "Predicing on: \n",
            " [50805.31640625 52369.68359375 52112.84765625 48653.1875\n",
            " 48770.8125     45977.984375   46981.640625  ] --> Prediction: 50927.07421875\n",
            "\n",
            "Predicing on: \n",
            " [52369.68359375 52112.84765625 48653.1875     48770.8125\n",
            " 45977.984375   46981.640625   50927.07421875] --> Prediction: 52614.93359375\n",
            "\n",
            "Predicing on: \n",
            " [52112.84765625 48653.1875     48770.8125     45977.984375\n",
            " 46981.640625   50927.07421875 52614.93359375] --> Prediction: 51821.03125\n",
            "\n",
            "Predicing on: \n",
            " [48653.1875     48770.8125     45977.984375   46981.640625\n",
            " 50927.07421875 52614.93359375 51821.03125   ] --> Prediction: 48288.78125\n",
            "\n",
            "Predicing on: \n",
            " [48770.8125     45977.984375   46981.640625   50927.07421875\n",
            " 52614.93359375 51821.03125    48288.78125   ] --> Prediction: 48890.05859375\n",
            "\n",
            "Predicing on: \n",
            " [45977.984375   46981.640625   50927.07421875 52614.93359375\n",
            " 51821.03125    48288.78125    48890.05859375] --> Prediction: 45596.31640625\n",
            "\n",
            "Predicing on: \n",
            " [46981.640625   50927.07421875 52614.93359375 51821.03125\n",
            " 48288.78125    48890.05859375 45596.31640625] --> Prediction: 47296.37890625\n",
            "\n",
            "Predicing on: \n",
            " [50927.07421875 52614.93359375 51821.03125    48288.78125\n",
            " 48890.05859375 45596.31640625 47296.37890625] --> Prediction: 51332.67578125\n",
            "\n",
            "Predicing on: \n",
            " [52614.93359375 51821.03125    48288.78125    48890.05859375\n",
            " 45596.31640625 47296.37890625 51332.67578125] --> Prediction: 53093.796875\n",
            "\n",
            "Predicing on: \n",
            " [51821.03125    48288.78125    48890.05859375 45596.31640625\n",
            " 47296.37890625 51332.67578125 53093.796875  ] --> Prediction: 50839.84375\n",
            "\n",
            "Predicing on: \n",
            " [48288.78125    48890.05859375 45596.31640625 47296.37890625\n",
            " 51332.67578125 53093.796875   50839.84375   ] --> Prediction: 48140.5859375\n",
            "\n",
            "Predicing on: \n",
            " [48890.05859375 45596.31640625 47296.37890625 51332.67578125\n",
            " 53093.796875   50839.84375    48140.5859375 ] --> Prediction: 47545.375\n",
            "\n",
            "Predicing on: \n",
            " [45596.31640625 47296.37890625 51332.67578125 53093.796875\n",
            " 50839.84375    48140.5859375  47545.375     ] --> Prediction: 45583.70703125\n",
            "\n",
            "Predicing on: \n",
            " [47296.37890625 51332.67578125 53093.796875   50839.84375\n",
            " 48140.5859375  47545.375      45583.70703125] --> Prediction: 47846.91015625\n",
            "\n",
            "Predicing on: \n",
            " [51332.67578125 53093.796875   50839.84375    48140.5859375\n",
            " 47545.375      45583.70703125 47846.91015625] --> Prediction: 52418.6328125\n",
            "\n",
            "Predicing on: \n",
            " [53093.796875   50839.84375    48140.5859375  47545.375\n",
            " 45583.70703125 47846.91015625 52418.6328125 ] --> Prediction: 52538.51953125\n",
            "\n",
            "Predicing on: \n",
            " [50839.84375    48140.5859375  47545.375      45583.70703125\n",
            " 47846.91015625 52418.6328125  52538.51953125] --> Prediction: 50875.95703125\n",
            "\n",
            "Predicing on: \n",
            " [48140.5859375  47545.375      45583.70703125 47846.91015625\n",
            " 52418.6328125  52538.51953125 50875.95703125] --> Prediction: 48075.88671875\n",
            "\n",
            "Predicing on: \n",
            " [47545.375      45583.70703125 47846.91015625 52418.6328125\n",
            " 52538.51953125 50875.95703125 48075.88671875] --> Prediction: 46688.34375\n",
            "\n",
            "Predicing on: \n",
            " [45583.70703125 47846.91015625 52418.6328125  52538.51953125\n",
            " 50875.95703125 48075.88671875 46688.34375   ] --> Prediction: 44905.19921875\n",
            "\n",
            "Predicing on: \n",
            " [47846.91015625 52418.6328125  52538.51953125 50875.95703125\n",
            " 48075.88671875 46688.34375    44905.19921875] --> Prediction: 48358.83203125\n",
            "\n",
            "Predicing on: \n",
            " [52418.6328125  52538.51953125 50875.95703125 48075.88671875\n",
            " 46688.34375    44905.19921875 48358.83203125] --> Prediction: 52598.07421875\n",
            "\n",
            "Predicing on: \n",
            " [52538.51953125 50875.95703125 48075.88671875 46688.34375\n",
            " 44905.19921875 48358.83203125 52598.07421875] --> Prediction: 52164.5234375\n",
            "\n",
            "Predicing on: \n",
            " [50875.95703125 48075.88671875 46688.34375    44905.19921875\n",
            " 48358.83203125 52598.07421875 52164.5234375 ] --> Prediction: 49886.11328125\n",
            "\n",
            "Predicing on: \n",
            " [48075.88671875 46688.34375    44905.19921875 48358.83203125\n",
            " 52598.07421875 52164.5234375  49886.11328125] --> Prediction: 47778.4296875\n",
            "\n",
            "Predicing on: \n",
            " [46688.34375    44905.19921875 48358.83203125 52598.07421875\n",
            " 52164.5234375  49886.11328125 47778.4296875 ] --> Prediction: 46047.91015625\n",
            "\n",
            "Predicing on: \n",
            " [44905.19921875 48358.83203125 52598.07421875 52164.5234375\n",
            " 49886.11328125 47778.4296875  46047.91015625] --> Prediction: 45019.09375\n",
            "\n",
            "Predicing on: \n",
            " [48358.83203125 52598.07421875 52164.5234375  49886.11328125\n",
            " 47778.4296875  46047.91015625 45019.09375   ] --> Prediction: 48598.078125\n",
            "\n",
            "Predicing on: \n",
            " [52598.07421875 52164.5234375  49886.11328125 47778.4296875\n",
            " 46047.91015625 45019.09375    48598.078125  ] --> Prediction: 53040.87890625\n",
            "\n",
            "Predicing on: \n",
            " [52164.5234375  49886.11328125 47778.4296875  46047.91015625\n",
            " 45019.09375    48598.078125   53040.87890625] --> Prediction: 53271.484375\n",
            "\n",
            "Predicing on: \n",
            " [49886.11328125 47778.4296875  46047.91015625 45019.09375\n",
            " 48598.078125   53040.87890625 53271.484375  ] --> Prediction: 49587.24609375\n",
            "\n",
            "Predicing on: \n",
            " [47778.4296875  46047.91015625 45019.09375    48598.078125\n",
            " 53040.87890625 53271.484375   49587.24609375] --> Prediction: 47451.86328125\n",
            "\n",
            "Predicing on: \n",
            " [46047.91015625 45019.09375    48598.078125   53040.87890625\n",
            " 53271.484375   49587.24609375 47451.86328125] --> Prediction: 45860.8671875\n",
            "\n",
            "Predicing on: \n",
            " [45019.09375    48598.078125   53040.87890625 53271.484375\n",
            " 49587.24609375 47451.86328125 45860.8671875 ] --> Prediction: 44894.11328125\n",
            "\n",
            "Predicing on: \n",
            " [48598.078125   53040.87890625 53271.484375   49587.24609375\n",
            " 47451.86328125 45860.8671875  44894.11328125] --> Prediction: 49513.453125\n",
            "\n",
            "Predicing on: \n",
            " [53040.87890625 53271.484375   49587.24609375 47451.86328125\n",
            " 45860.8671875  44894.11328125 49513.453125  ] --> Prediction: 54710.046875\n",
            "\n",
            "Predicing on: \n",
            " [53271.484375   49587.24609375 47451.86328125 45860.8671875\n",
            " 44894.11328125 49513.453125   54710.046875  ] --> Prediction: 52219.17578125\n",
            "\n",
            "Predicing on: \n",
            " [49587.24609375 47451.86328125 45860.8671875  44894.11328125\n",
            " 49513.453125   54710.046875   52219.17578125] --> Prediction: 49869.328125\n",
            "\n",
            "Predicing on: \n",
            " [47451.86328125 45860.8671875  44894.11328125 49513.453125\n",
            " 54710.046875   52219.17578125 49869.328125  ] --> Prediction: 46663.4140625\n",
            "\n",
            "Predicing on: \n",
            " [45860.8671875  44894.11328125 49513.453125   54710.046875\n",
            " 52219.17578125 49869.328125   46663.4140625 ] --> Prediction: 45998.78515625\n",
            "\n",
            "Predicing on: \n",
            " [44894.11328125 49513.453125   54710.046875   52219.17578125\n",
            " 49869.328125   46663.4140625  45998.78515625] --> Prediction: 45357.3359375\n",
            "\n",
            "Predicing on: \n",
            " [49513.453125   54710.046875   52219.17578125 49869.328125\n",
            " 46663.4140625  45998.78515625 45357.3359375 ] --> Prediction: 50705.09765625\n",
            "\n",
            "Predicing on: \n",
            " [54710.046875   52219.17578125 49869.328125   46663.4140625\n",
            " 45998.78515625 45357.3359375  50705.09765625] --> Prediction: 54287.79296875\n",
            "\n",
            "Predicing on: \n",
            " [52219.17578125 49869.328125   46663.4140625  45998.78515625\n",
            " 45357.3359375  50705.09765625 54287.79296875] --> Prediction: 50848.41796875\n",
            "\n",
            "Predicing on: \n",
            " [49869.328125   46663.4140625  45998.78515625 45357.3359375\n",
            " 50705.09765625 54287.79296875 50848.41796875] --> Prediction: 50275.640625\n",
            "\n",
            "Predicing on: \n",
            " [46663.4140625  45998.78515625 45357.3359375  50705.09765625\n",
            " 54287.79296875 50848.41796875 50275.640625  ] --> Prediction: 46854.4609375\n",
            "\n",
            "Predicing on: \n",
            " [45998.78515625 45357.3359375  50705.09765625 54287.79296875\n",
            " 50848.41796875 50275.640625   46854.4609375 ] --> Prediction: 45343.92578125\n",
            "\n",
            "Predicing on: \n",
            " [45357.3359375  50705.09765625 54287.79296875 50848.41796875\n",
            " 50275.640625   46854.4609375  45343.92578125] --> Prediction: 45761.57421875\n",
            "\n",
            "Predicing on: \n",
            " [50705.09765625 54287.79296875 50848.41796875 50275.640625\n",
            " 46854.4609375  45343.92578125 45761.57421875] --> Prediction: 50412.9765625\n",
            "\n",
            "Predicing on: \n",
            " [54287.79296875 50848.41796875 50275.640625   46854.4609375\n",
            " 45343.92578125 45761.57421875 50412.9765625 ] --> Prediction: 53810.5546875\n",
            "\n",
            "Predicing on: \n",
            " [50848.41796875 50275.640625   46854.4609375  45343.92578125\n",
            " 45761.57421875 50412.9765625  53810.5546875 ] --> Prediction: 51341.41015625\n",
            "\n",
            "Predicing on: \n",
            " [50275.640625   46854.4609375  45343.92578125 45761.57421875\n",
            " 50412.9765625  53810.5546875  51341.41015625] --> Prediction: 49949.07421875\n",
            "\n",
            "Predicing on: \n",
            " [46854.4609375  45343.92578125 45761.57421875 50412.9765625\n",
            " 53810.5546875  51341.41015625 49949.07421875] --> Prediction: 46650.6640625\n",
            "\n",
            "Predicing on: \n",
            " [45343.92578125 45761.57421875 50412.9765625  53810.5546875\n",
            " 51341.41015625 49949.07421875 46650.6640625 ] --> Prediction: 44744.19140625\n",
            "\n",
            "Predicing on: \n",
            " [45761.57421875 50412.9765625  53810.5546875  51341.41015625\n",
            " 49949.07421875 46650.6640625  44744.19140625] --> Prediction: 45634.83203125\n",
            "\n",
            "Predicing on: \n",
            " [50412.9765625  53810.5546875  51341.41015625 49949.07421875\n",
            " 46650.6640625  44744.19140625 45634.83203125] --> Prediction: 51555.95703125\n",
            "\n",
            "Predicing on: \n",
            " [53810.5546875  51341.41015625 49949.07421875 46650.6640625\n",
            " 44744.19140625 45634.83203125 51555.95703125] --> Prediction: 54462.875\n",
            "\n",
            "Predicing on: \n",
            " [51341.41015625 49949.07421875 46650.6640625  44744.19140625\n",
            " 45634.83203125 51555.95703125 54462.875     ] --> Prediction: 50398.2890625\n",
            "\n",
            "Predicing on: \n",
            " [49949.07421875 46650.6640625  44744.19140625 45634.83203125\n",
            " 51555.95703125 54462.875      50398.2890625 ] --> Prediction: 49774.13671875\n",
            "\n",
            "Predicing on: \n",
            " [46650.6640625  44744.19140625 45634.83203125 51555.95703125\n",
            " 54462.875      50398.2890625  49774.13671875] --> Prediction: 45945.9296875\n",
            "\n",
            "Predicing on: \n",
            " [44744.19140625 45634.83203125 51555.95703125 54462.875\n",
            " 50398.2890625  49774.13671875 45945.9296875 ] --> Prediction: 46034.65234375\n",
            "\n",
            "Predicing on: \n",
            " [45634.83203125 51555.95703125 54462.875      50398.2890625\n",
            " 49774.13671875 45945.9296875  46034.65234375] --> Prediction: 46581.7578125\n",
            "\n",
            "Predicing on: \n",
            " [51555.95703125 54462.875      50398.2890625  49774.13671875\n",
            " 45945.9296875  46034.65234375 46581.7578125 ] --> Prediction: 51910.25390625\n",
            "\n",
            "Predicing on: \n",
            " [54462.875      50398.2890625  49774.13671875 45945.9296875\n",
            " 46034.65234375 46581.7578125  51910.25390625] --> Prediction: 53229.70703125\n",
            "\n",
            "Predicing on: \n",
            " [50398.2890625  49774.13671875 45945.9296875  46034.65234375\n",
            " 46581.7578125  51910.25390625 53229.70703125] --> Prediction: 49622.22265625\n",
            "\n",
            "Predicing on: \n",
            " [49774.13671875 45945.9296875  46034.65234375 46581.7578125\n",
            " 51910.25390625 53229.70703125 49622.22265625] --> Prediction: 49032.2109375\n",
            "\n",
            "Predicing on: \n",
            " [45945.9296875  46034.65234375 46581.7578125  51910.25390625\n",
            " 53229.70703125 49622.22265625 49032.2109375 ] --> Prediction: 45886.3828125\n",
            "\n",
            "Predicing on: \n",
            " [46034.65234375 46581.7578125  51910.25390625 53229.70703125\n",
            " 49622.22265625 49032.2109375  45886.3828125 ] --> Prediction: 45957.78125\n",
            "\n",
            "Predicing on: \n",
            " [46581.7578125  51910.25390625 53229.70703125 49622.22265625\n",
            " 49032.2109375  45886.3828125  45957.78125   ] --> Prediction: 47753.51171875\n",
            "\n",
            "Predicing on: \n",
            " [51910.25390625 53229.70703125 49622.22265625 49032.2109375\n",
            " 45886.3828125  45957.78125    47753.51171875] --> Prediction: 52069.53125\n",
            "\n",
            "Predicing on: \n",
            " [53229.70703125 49622.22265625 49032.2109375  45886.3828125\n",
            " 45957.78125    47753.51171875 52069.53125   ] --> Prediction: 52549.1796875\n",
            "\n",
            "Predicing on: \n",
            " [49622.22265625 49032.2109375  45886.3828125  45957.78125\n",
            " 47753.51171875 52069.53125    52549.1796875 ] --> Prediction: 50046.5859375\n",
            "\n",
            "Predicing on: \n",
            " [49032.2109375  45886.3828125  45957.78125    47753.51171875\n",
            " 52069.53125    52549.1796875  50046.5859375 ] --> Prediction: 48600.859375\n",
            "\n",
            "Predicing on: \n",
            " [45886.3828125  45957.78125    47753.51171875 52069.53125\n",
            " 52549.1796875  50046.5859375  48600.859375  ] --> Prediction: 45452.82421875\n",
            "\n",
            "Predicing on: \n",
            " [45957.78125    47753.51171875 52069.53125    52549.1796875\n",
            " 50046.5859375  48600.859375   45452.82421875] --> Prediction: 46004.0390625\n",
            "\n",
            "Predicing on: \n",
            " [47753.51171875 52069.53125    52549.1796875  50046.5859375\n",
            " 48600.859375   45452.82421875 46004.0390625 ] --> Prediction: 47991.48828125\n",
            "\n",
            "Predicing on: \n",
            " [52069.53125    52549.1796875  50046.5859375  48600.859375\n",
            " 45452.82421875 46004.0390625  47991.48828125] --> Prediction: 52539.3046875\n",
            "\n",
            "Predicing on: \n",
            " [52549.1796875  50046.5859375  48600.859375   45452.82421875\n",
            " 46004.0390625  47991.48828125 52539.3046875 ] --> Prediction: 52751.546875\n",
            "\n",
            "Predicing on: \n",
            " [50046.5859375  48600.859375   45452.82421875 46004.0390625\n",
            " 47991.48828125 52539.3046875  52751.546875  ] --> Prediction: 49290.29296875\n",
            "\n",
            "Predicing on: \n",
            " [48600.859375   45452.82421875 46004.0390625  47991.48828125\n",
            " 52539.3046875  52751.546875   49290.29296875] --> Prediction: 48572.58203125\n",
            "\n",
            "Predicing on: \n",
            " [45452.82421875 46004.0390625  47991.48828125 52539.3046875\n",
            " 52751.546875   49290.29296875 48572.58203125] --> Prediction: 45045.06640625\n",
            "\n",
            "Predicing on: \n",
            " [46004.0390625  47991.48828125 52539.3046875  52751.546875\n",
            " 49290.29296875 48572.58203125 45045.06640625] --> Prediction: 46138.46875\n",
            "\n",
            "Predicing on: \n",
            " [47991.48828125 52539.3046875  52751.546875   49290.29296875\n",
            " 48572.58203125 45045.06640625 46138.46875   ] --> Prediction: 49176.55078125\n",
            "\n",
            "Predicing on: \n",
            " [52539.3046875  52751.546875   49290.29296875 48572.58203125\n",
            " 45045.06640625 46138.46875    49176.55078125] --> Prediction: 53275.3203125\n",
            "\n",
            "Predicing on: \n",
            " [52751.546875   49290.29296875 48572.58203125 45045.06640625\n",
            " 46138.46875    49176.55078125 53275.3203125 ] --> Prediction: 51672.90234375\n",
            "\n",
            "Predicing on: \n",
            " [49290.29296875 48572.58203125 45045.06640625 46138.46875\n",
            " 49176.55078125 53275.3203125  51672.90234375] --> Prediction: 48959.81640625\n",
            "\n",
            "Predicing on: \n",
            " [48572.58203125 45045.06640625 46138.46875    49176.55078125\n",
            " 53275.3203125  51672.90234375 48959.81640625] --> Prediction: 47471.046875\n",
            "\n",
            "Predicing on: \n",
            " [45045.06640625 46138.46875    49176.55078125 53275.3203125\n",
            " 51672.90234375 48959.81640625 47471.046875  ] --> Prediction: 45293.56640625\n",
            "\n",
            "Predicing on: \n",
            " [46138.46875    49176.55078125 53275.3203125  51672.90234375\n",
            " 48959.81640625 47471.046875   45293.56640625] --> Prediction: 46468.421875\n",
            "\n",
            "Predicing on: \n",
            " [49176.55078125 53275.3203125  51672.90234375 48959.81640625\n",
            " 47471.046875   45293.56640625 46468.421875  ] --> Prediction: 50103.7265625\n",
            "\n",
            "Predicing on: \n",
            " [53275.3203125  51672.90234375 48959.81640625 47471.046875\n",
            " 45293.56640625 46468.421875   50103.7265625 ] --> Prediction: 52965.39453125\n",
            "\n",
            "Predicing on: \n",
            " [51672.90234375 48959.81640625 47471.046875   45293.56640625\n",
            " 46468.421875   50103.7265625  52965.39453125] --> Prediction: 51413.859375\n",
            "\n",
            "Predicing on: \n",
            " [48959.81640625 47471.046875   45293.56640625 46468.421875\n",
            " 50103.7265625  52965.39453125 51413.859375  ] --> Prediction: 49252.9765625\n",
            "\n",
            "Predicing on: \n",
            " [47471.046875   45293.56640625 46468.421875   50103.7265625\n",
            " 52965.39453125 51413.859375   49252.9765625 ] --> Prediction: 46713.5703125\n",
            "\n",
            "Predicing on: \n",
            " [45293.56640625 46468.421875   50103.7265625  52965.39453125\n",
            " 51413.859375   49252.9765625  46713.5703125 ] --> Prediction: 44814.25390625\n",
            "\n",
            "Predicing on: \n",
            " [46468.421875   50103.7265625  52965.39453125 51413.859375\n",
            " 49252.9765625  46713.5703125  44814.25390625] --> Prediction: 46840.125\n",
            "\n",
            "Predicing on: \n",
            " [50103.7265625  52965.39453125 51413.859375   49252.9765625\n",
            " 46713.5703125  44814.25390625 46840.125     ] --> Prediction: 50364.140625\n",
            "\n",
            "Predicing on: \n",
            " [52965.39453125 51413.859375   49252.9765625  46713.5703125\n",
            " 44814.25390625 46840.125      50364.140625  ] --> Prediction: 53060.98046875\n",
            "\n",
            "Predicing on: \n",
            " [51413.859375   49252.9765625  46713.5703125  44814.25390625\n",
            " 46840.125      50364.140625   53060.98046875] --> Prediction: 50842.60546875\n",
            "\n",
            "Predicing on: \n",
            " [49252.9765625  46713.5703125  44814.25390625 46840.125\n",
            " 50364.140625   53060.98046875 50842.60546875] --> Prediction: 48677.69140625\n",
            "\n",
            "Predicing on: \n",
            " [46713.5703125  44814.25390625 46840.125      50364.140625\n",
            " 53060.98046875 50842.60546875 48677.69140625] --> Prediction: 46310.91015625\n",
            "\n",
            "Predicing on: \n",
            " [44814.25390625 46840.125      50364.140625   53060.98046875\n",
            " 50842.60546875 48677.69140625 46310.91015625] --> Prediction: 44374.0859375\n",
            "\n",
            "Predicing on: \n",
            " [46840.125      50364.140625   53060.98046875 50842.60546875\n",
            " 48677.69140625 46310.91015625 44374.0859375 ] --> Prediction: 46922.0390625\n",
            "\n",
            "Predicing on: \n",
            " [50364.140625   53060.98046875 50842.60546875 48677.69140625\n",
            " 46310.91015625 44374.0859375  46922.0390625 ] --> Prediction: 51101.1796875\n",
            "\n",
            "Predicing on: \n",
            " [53060.98046875 50842.60546875 48677.69140625 46310.91015625\n",
            " 44374.0859375  46922.0390625  51101.1796875 ] --> Prediction: 54167.953125\n",
            "\n",
            "Predicing on: \n",
            " [50842.60546875 48677.69140625 46310.91015625 44374.0859375\n",
            " 46922.0390625  51101.1796875  54167.953125  ] --> Prediction: 50425.40234375\n",
            "\n",
            "Predicing on: \n",
            " [48677.69140625 46310.91015625 44374.0859375  46922.0390625\n",
            " 51101.1796875  54167.953125   50425.40234375] --> Prediction: 48412.27734375\n",
            "\n",
            "Predicing on: \n",
            " [46310.91015625 44374.0859375  46922.0390625  51101.1796875\n",
            " 54167.953125   50425.40234375 48412.27734375] --> Prediction: 46066.640625\n",
            "\n",
            "Predicing on: \n",
            " [44374.0859375  46922.0390625  51101.1796875  54167.953125\n",
            " 50425.40234375 48412.27734375 46066.640625  ] --> Prediction: 44207.23828125\n",
            "\n",
            "Predicing on: \n",
            " [46922.0390625  51101.1796875  54167.953125   50425.40234375\n",
            " 48412.27734375 46066.640625   44207.23828125] --> Prediction: 47459.0078125\n",
            "\n",
            "Predicing on: \n",
            " [51101.1796875  54167.953125   50425.40234375 48412.27734375\n",
            " 46066.640625   44207.23828125 47459.0078125 ] --> Prediction: 52372.8984375\n",
            "\n",
            "Predicing on: \n",
            " [54167.953125   50425.40234375 48412.27734375 46066.640625\n",
            " 44207.23828125 47459.0078125  52372.8984375 ] --> Prediction: 53553.30078125\n",
            "\n",
            "Predicing on: \n",
            " [50425.40234375 48412.27734375 46066.640625   44207.23828125\n",
            " 47459.0078125  52372.8984375  53553.30078125] --> Prediction: 49982.6171875\n",
            "\n",
            "Predicing on: \n",
            " [48412.27734375 46066.640625   44207.23828125 47459.0078125\n",
            " 52372.8984375  53553.30078125 49982.6171875 ] --> Prediction: 47234.33203125\n",
            "\n",
            "Predicing on: \n",
            " [46066.640625   44207.23828125 47459.0078125  52372.8984375\n",
            " 53553.30078125 49982.6171875  47234.33203125] --> Prediction: 45810.3671875\n",
            "\n",
            "Predicing on: \n",
            " [44207.23828125 47459.0078125  52372.8984375  53553.30078125\n",
            " 49982.6171875  47234.33203125 45810.3671875 ] --> Prediction: 44147.0625\n",
            "\n",
            "Predicing on: \n",
            " [47459.0078125  52372.8984375  53553.30078125 49982.6171875\n",
            " 47234.33203125 45810.3671875  44147.0625    ] --> Prediction: 48836.3515625\n",
            "\n",
            "Predicing on: \n",
            " [52372.8984375  53553.30078125 49982.6171875  47234.33203125\n",
            " 45810.3671875  44147.0625     48836.3515625 ] --> Prediction: 52220.5546875\n",
            "\n",
            "Predicing on: \n",
            " [53553.30078125 49982.6171875  47234.33203125 45810.3671875\n",
            " 44147.0625     48836.3515625  52220.5546875 ] --> Prediction: 52044.8359375\n",
            "\n",
            "Predicing on: \n",
            " [49982.6171875  47234.33203125 45810.3671875  44147.0625\n",
            " 48836.3515625  52220.5546875  52044.8359375 ] --> Prediction: 50463.33203125\n",
            "\n",
            "Predicing on: \n",
            " [47234.33203125 45810.3671875  44147.0625     48836.3515625\n",
            " 52220.5546875  52044.8359375  50463.33203125] --> Prediction: 47191.58203125\n",
            "\n",
            "Predicing on: \n",
            " [45810.3671875  44147.0625     48836.3515625  52220.5546875\n",
            " 52044.8359375  50463.33203125 47191.58203125] --> Prediction: 44972.109375\n",
            "\n",
            "Predicing on: \n",
            " [44147.0625     48836.3515625  52220.5546875  52044.8359375\n",
            " 50463.33203125 47191.58203125 44972.109375  ] --> Prediction: 44160.98046875\n",
            "\n",
            "Predicing on: \n",
            " [48836.3515625  52220.5546875  52044.8359375  50463.33203125\n",
            " 47191.58203125 44972.109375   44160.98046875] --> Prediction: 48415.4609375\n",
            "\n",
            "Predicing on: \n",
            " [52220.5546875  52044.8359375  50463.33203125 47191.58203125\n",
            " 44972.109375   44160.98046875 48415.4609375 ] --> Prediction: 52522.421875\n",
            "\n",
            "Predicing on: \n",
            " [52044.8359375  50463.33203125 47191.58203125 44972.109375\n",
            " 44160.98046875 48415.4609375  52522.421875  ] --> Prediction: 52675.04296875\n",
            "\n",
            "Predicing on: \n",
            " [50463.33203125 47191.58203125 44972.109375   44160.98046875\n",
            " 48415.4609375  52522.421875   52675.04296875] --> Prediction: 49644.80078125\n",
            "\n",
            "Predicing on: \n",
            " [47191.58203125 44972.109375   44160.98046875 48415.4609375\n",
            " 52522.421875   52675.04296875 49644.80078125] --> Prediction: 47168.38671875\n",
            "\n",
            "Predicing on: \n",
            " [44972.109375   44160.98046875 48415.4609375  52522.421875\n",
            " 52675.04296875 49644.80078125 47168.38671875] --> Prediction: 44429.17578125\n",
            "\n",
            "Predicing on: \n",
            " [44160.98046875 48415.4609375  52522.421875   52675.04296875\n",
            " 49644.80078125 47168.38671875 44429.17578125] --> Prediction: 43987.64453125\n",
            "\n",
            "Predicing on: \n",
            " [48415.4609375  52522.421875   52675.04296875 49644.80078125\n",
            " 47168.38671875 44429.17578125 43987.64453125] --> Prediction: 49460.15625\n",
            "\n",
            "Predicing on: \n",
            " [52522.421875   52675.04296875 49644.80078125 47168.38671875\n",
            " 44429.17578125 43987.64453125 49460.15625   ] --> Prediction: 53484.859375\n",
            "\n",
            "Predicing on: \n",
            " [52675.04296875 49644.80078125 47168.38671875 44429.17578125\n",
            " 43987.64453125 49460.15625    53484.859375  ] --> Prediction: 51576.0546875\n",
            "\n",
            "Predicing on: \n",
            " [49644.80078125 47168.38671875 44429.17578125 43987.64453125\n",
            " 49460.15625    53484.859375   51576.0546875 ] --> Prediction: 49175.11328125\n",
            "\n",
            "Predicing on: \n",
            " [47168.38671875 44429.17578125 43987.64453125 49460.15625\n",
            " 53484.859375   51576.0546875  49175.11328125] --> Prediction: 46909.7109375\n",
            "\n",
            "Predicing on: \n",
            " [44429.17578125 43987.64453125 49460.15625    53484.859375\n",
            " 51576.0546875  49175.11328125 46909.7109375 ] --> Prediction: 44770.1875\n",
            "\n",
            "Predicing on: \n",
            " [43987.64453125 49460.15625    53484.859375   51576.0546875\n",
            " 49175.11328125 46909.7109375  44770.1875    ] --> Prediction: 44574.625\n",
            "\n",
            "Predicing on: \n",
            " [49460.15625    53484.859375   51576.0546875  49175.11328125\n",
            " 46909.7109375  44770.1875     44574.625     ] --> Prediction: 50088.60546875\n",
            "\n",
            "Predicing on: \n",
            " [53484.859375   51576.0546875  49175.11328125 46909.7109375\n",
            " 44770.1875     44574.625      50088.60546875] --> Prediction: 52335.01953125\n",
            "\n",
            "Predicing on: \n",
            " [51576.0546875  49175.11328125 46909.7109375  44770.1875\n",
            " 44574.625      50088.60546875 52335.01953125] --> Prediction: 50411.58984375\n",
            "\n",
            "Predicing on: \n",
            " [49175.11328125 46909.7109375  44770.1875     44574.625\n",
            " 50088.60546875 52335.01953125 50411.58984375] --> Prediction: 48529.1875\n",
            "\n",
            "Predicing on: \n",
            " [46909.7109375  44770.1875     44574.625      50088.60546875\n",
            " 52335.01953125 50411.58984375 48529.1875    ] --> Prediction: 46983.78125\n",
            "\n"
          ]
        }
      ]
    },
    {
      "cell_type": "markdown",
      "metadata": {
        "id": "LZvOcaWdyPg3"
      },
      "source": [
        "### 7. For future predictions, try to make a prediction, retrain a model on the predictions, make a prediction, retrain a model, make a prediction, retrain a model, make a prediction (retrain a model each time a new prediction is made). Plot the results, how do they look compared to the future predictions where a model wasn’t retrained for every forecast (model_9)?\n"
      ]
    },
    {
      "cell_type": "code",
      "metadata": {
        "id": "FD2tfR7Y-BWG"
      },
      "source": [
        ""
      ],
      "execution_count": 180,
      "outputs": []
    },
    {
      "cell_type": "code",
      "metadata": {
        "id": "ZkfktUGa-CRw"
      },
      "source": [
        ""
      ],
      "execution_count": 180,
      "outputs": []
    },
    {
      "cell_type": "code",
      "metadata": {
        "id": "lYvX6FuH-Cci"
      },
      "source": [
        ""
      ],
      "execution_count": 180,
      "outputs": []
    },
    {
      "cell_type": "code",
      "metadata": {
        "id": "kzHOR23b-CkE"
      },
      "source": [
        ""
      ],
      "execution_count": 180,
      "outputs": []
    },
    {
      "cell_type": "code",
      "metadata": {
        "id": "uedqTuLr-Cs1"
      },
      "source": [
        ""
      ],
      "execution_count": 180,
      "outputs": []
    },
    {
      "cell_type": "code",
      "metadata": {
        "id": "6Udvq9MA-C3S"
      },
      "source": [
        ""
      ],
      "execution_count": 180,
      "outputs": []
    },
    {
      "cell_type": "markdown",
      "metadata": {
        "id": "6eo6JOrd-Dme"
      },
      "source": [
        "### 8. Throughout this notebook, we’ve only tried algorithms we’ve handcrafted ourselves. But it’s worth seeing how a purpose built forecasting algorithm goes.\n",
        "\n",
        "* Try out one of the extra algorithms listed in the modelling experiments part such as:\n",
        "\t*  [Facebook’s Kats library](https://github.com/facebookresearch/Kats)  - there are many models in here, remember the machine learning practioner’s motto: experiment, experiment, experiment.\n",
        "\t*  [LinkedIn’s Greykite library](https://github.com/linkedin/greykite) \n"
      ]
    },
    {
      "cell_type": "code",
      "metadata": {
        "colab": {
          "base_uri": "https://localhost:8080/"
        },
        "id": "Rngm_dIP-Exz",
        "outputId": "c3bf2bea-ea5b-46d9-add8-9cd410f24f36"
      },
      "source": [
        "# Installing facebooks kats lib \n",
        "!pip install kats "
      ],
      "execution_count": 181,
      "outputs": [
        {
          "output_type": "stream",
          "name": "stdout",
          "text": [
            "Requirement already satisfied: kats in /usr/local/lib/python3.7/dist-packages (0.1.0)\n",
            "Requirement already satisfied: statsmodels>=0.12.2 in /usr/local/lib/python3.7/dist-packages (from kats) (0.12.2)\n",
            "Requirement already satisfied: holidays>=0.10.2 in /usr/local/lib/python3.7/dist-packages (from kats) (0.10.5.2)\n",
            "Requirement already satisfied: pymannkendall>=1.4.1 in /usr/local/lib/python3.7/dist-packages (from kats) (1.4.2)\n",
            "Requirement already satisfied: scikit-learn>+0.24.2 in /usr/local/lib/python3.7/dist-packages (from kats) (0.22.2.post1)\n",
            "Requirement already satisfied: tqdm>=4.36.1 in /usr/local/lib/python3.7/dist-packages (from kats) (4.62.0)\n",
            "Requirement already satisfied: python-dateutil>=2.8.0 in /usr/local/lib/python3.7/dist-packages (from kats) (2.8.2)\n",
            "Requirement already satisfied: setuptools-git>=1.2 in /usr/local/lib/python3.7/dist-packages (from kats) (1.2)\n",
            "Requirement already satisfied: LunarCalendar>=0.0.9 in /usr/local/lib/python3.7/dist-packages (from kats) (0.0.9)\n",
            "Requirement already satisfied: attrs>=21.2.0 in /usr/local/lib/python3.7/dist-packages (from kats) (21.2.0)\n",
            "Requirement already satisfied: gpytorch in /usr/local/lib/python3.7/dist-packages (from kats) (1.5.1)\n",
            "Requirement already satisfied: torch>=1.8.1 in /usr/local/lib/python3.7/dist-packages (from kats) (1.9.0+cu102)\n",
            "Requirement already satisfied: numpy>=1.15.4 in /usr/local/lib/python3.7/dist-packages (from kats) (1.19.5)\n",
            "Requirement already satisfied: fbprophet==0.7 in /usr/local/lib/python3.7/dist-packages (from kats) (0.7)\n",
            "Requirement already satisfied: convertdate>=2.1.2 in /usr/local/lib/python3.7/dist-packages (from kats) (2.3.2)\n",
            "Requirement already satisfied: numba>=0.52.0 in /usr/local/lib/python3.7/dist-packages (from kats) (0.54.0)\n",
            "Requirement already satisfied: seaborn>=0.11.1 in /usr/local/lib/python3.7/dist-packages (from kats) (0.11.1)\n",
            "Requirement already satisfied: ax-platform in /usr/local/lib/python3.7/dist-packages (from kats) (0.2.1)\n",
            "Requirement already satisfied: matplotlib>=2.0.0 in /usr/local/lib/python3.7/dist-packages (from kats) (3.2.2)\n",
            "Requirement already satisfied: pystan==2.19.1.1 in /usr/local/lib/python3.7/dist-packages (from kats) (2.19.1.1)\n",
            "Requirement already satisfied: plotly>=4.14.3 in /usr/local/lib/python3.7/dist-packages (from kats) (5.3.1)\n",
            "Requirement already satisfied: pandas>=1.0.4 in /usr/local/lib/python3.7/dist-packages (from kats) (1.1.5)\n",
            "Requirement already satisfied: cmdstanpy==0.9.5 in /usr/local/lib/python3.7/dist-packages (from fbprophet==0.7->kats) (0.9.5)\n",
            "Requirement already satisfied: Cython>=0.22 in /usr/local/lib/python3.7/dist-packages (from fbprophet==0.7->kats) (0.29.24)\n",
            "Requirement already satisfied: pymeeus<=1,>=0.3.13 in /usr/local/lib/python3.7/dist-packages (from convertdate>=2.1.2->kats) (0.5.11)\n",
            "Requirement already satisfied: pytz>=2014.10 in /usr/local/lib/python3.7/dist-packages (from convertdate>=2.1.2->kats) (2018.9)\n",
            "Requirement already satisfied: hijri-converter in /usr/local/lib/python3.7/dist-packages (from holidays>=0.10.2->kats) (2.1.3)\n",
            "Requirement already satisfied: korean-lunar-calendar in /usr/local/lib/python3.7/dist-packages (from holidays>=0.10.2->kats) (0.2.1)\n",
            "Requirement already satisfied: six in /usr/local/lib/python3.7/dist-packages (from holidays>=0.10.2->kats) (1.15.0)\n",
            "Requirement already satisfied: ephem>=3.7.5.3 in /usr/local/lib/python3.7/dist-packages (from LunarCalendar>=0.0.9->kats) (4.0.0.2)\n",
            "Requirement already satisfied: cycler>=0.10 in /usr/local/lib/python3.7/dist-packages (from matplotlib>=2.0.0->kats) (0.10.0)\n",
            "Requirement already satisfied: pyparsing!=2.0.4,!=2.1.2,!=2.1.6,>=2.0.1 in /usr/local/lib/python3.7/dist-packages (from matplotlib>=2.0.0->kats) (2.4.7)\n",
            "Requirement already satisfied: kiwisolver>=1.0.1 in /usr/local/lib/python3.7/dist-packages (from matplotlib>=2.0.0->kats) (1.3.1)\n",
            "Requirement already satisfied: setuptools in /usr/local/lib/python3.7/dist-packages (from numba>=0.52.0->kats) (57.4.0)\n",
            "Requirement already satisfied: llvmlite<0.38,>=0.37.0rc1 in /usr/local/lib/python3.7/dist-packages (from numba>=0.52.0->kats) (0.37.0)\n",
            "Requirement already satisfied: tenacity>=6.2.0 in /usr/local/lib/python3.7/dist-packages (from plotly>=4.14.3->kats) (8.0.1)\n",
            "Requirement already satisfied: scipy in /usr/local/lib/python3.7/dist-packages (from pymannkendall>=1.4.1->kats) (1.4.1)\n",
            "Requirement already satisfied: joblib>=0.11 in /usr/local/lib/python3.7/dist-packages (from scikit-learn>+0.24.2->kats) (1.0.1)\n",
            "Requirement already satisfied: patsy>=0.5 in /usr/local/lib/python3.7/dist-packages (from statsmodels>=0.12.2->kats) (0.5.1)\n",
            "Requirement already satisfied: typing-extensions in /usr/local/lib/python3.7/dist-packages (from torch>=1.8.1->kats) (3.7.4.3)\n",
            "Requirement already satisfied: jinja2 in /usr/local/lib/python3.7/dist-packages (from ax-platform->kats) (2.11.3)\n",
            "Requirement already satisfied: typeguard in /usr/local/lib/python3.7/dist-packages (from ax-platform->kats) (2.7.1)\n",
            "Requirement already satisfied: botorch==0.5.0 in /usr/local/lib/python3.7/dist-packages (from ax-platform->kats) (0.5.0)\n",
            "Requirement already satisfied: MarkupSafe>=0.23 in /usr/local/lib/python3.7/dist-packages (from jinja2->ax-platform->kats) (2.0.1)\n"
          ]
        }
      ]
    },
    {
      "cell_type": "code",
      "metadata": {
        "id": "1R2yY9-oqYd-"
      },
      "source": [
        "# Importing the TimeSerisData class from Kats \n",
        "from kats.consts import TimeSeriesData\n"
      ],
      "execution_count": 182,
      "outputs": []
    },
    {
      "cell_type": "code",
      "metadata": {
        "id": "EFyRBrpIrKns"
      },
      "source": [
        "# Utils to work with Kats \n",
        "from dateutil import parser \n",
        "from datetime import datetime"
      ],
      "execution_count": 183,
      "outputs": []
    },
    {
      "cell_type": "code",
      "metadata": {
        "colab": {
          "base_uri": "https://localhost:8080/"
        },
        "id": "2BbGVjIvrSCT",
        "outputId": "ecbc827a-c7b7-4dc2-acfc-ebdddab4fd3b"
      },
      "source": [
        "# Creating a Dataset object with Kats \n",
        "ts_data = TimeSeriesData(time = bitcoin_prices_updated.index , \n",
        "               value = bitcoin_prices_updated.Price)\n",
        "\n",
        "type(ts_data)"
      ],
      "execution_count": 184,
      "outputs": [
        {
          "output_type": "execute_result",
          "data": {
            "text/plain": [
              "kats.consts.TimeSeriesData"
            ]
          },
          "metadata": {},
          "execution_count": 184
        }
      ]
    },
    {
      "cell_type": "code",
      "metadata": {
        "colab": {
          "base_uri": "https://localhost:8080/",
          "height": 408
        },
        "id": "lC4aG5BZraEa",
        "outputId": "90c6f3f8-d12e-4d46-eb46-2bc5f171b08e"
      },
      "source": [
        "# Plotting the timeseries data \n",
        "import matplotlib.pyplot as plt\n",
        "\n",
        "ts_data.plot(cols=['Price'])\n",
        "plt.show()\n"
      ],
      "execution_count": 185,
      "outputs": [
        {
          "output_type": "display_data",
          "data": {
            "image/png": "[encoded data removed]",
            "text/plain": [
              "<Figure size 720x432 with 1 Axes>"
            ]
          },
          "metadata": {}
        }
      ]
    },
    {
      "cell_type": "markdown",
      "metadata": {
        "id": "WB57AkOir5rY"
      },
      "source": [
        "Lets make some forecasting with our data on a prophet model. "
      ]
    },
    {
      "cell_type": "code",
      "metadata": {
        "colab": {
          "base_uri": "https://localhost:8080/"
        },
        "id": "DuNutrLdSUCI",
        "outputId": "e4f188c5-5c93-4710-e0cb-392a5c91141f"
      },
      "source": [
        "# Importing the prophet \n",
        "from kats.models.prophet import ProphetModel , ProphetParams\n",
        "\n",
        "# Creating a model param instance \n",
        "params = ProphetParams(seasonality_mode= 'multiplicative') \n",
        "\n",
        "# Create a prophet model instance (just like how we create an instance in sklearn)\n",
        "model = ProphetModel(ts_data , params)\n",
        "\n",
        "# Fitting the model \n",
        "model.fit() \n",
        "\n",
        "# Making predictions \n",
        "forecast = model.predict(steps= 1 , include_history= True , freq = '1W')"
      ],
      "execution_count": 186,
      "outputs": [
        {
          "output_type": "stream",
          "name": "stderr",
          "text": [
            "INFO:fbprophet:Disabling daily seasonality. Run prophet with daily_seasonality=True to override this.\n"
          ]
        }
      ]
    },
    {
      "cell_type": "code",
      "metadata": {
        "colab": {
          "base_uri": "https://localhost:8080/",
          "height": 359
        },
        "id": "jrVnWaygShim",
        "outputId": "5af05705-58f7-4c31-a17f-3898f1755a5c"
      },
      "source": [
        "# Predicting the bitcoin price for a day (Horizon = 1 )\n",
        "forecast.head(10)"
      ],
      "execution_count": 187,
      "outputs": [
        {
          "output_type": "execute_result",
          "data": {
            "text/html": [
              "<div>\n",
              "<style scoped>\n",
              "    .dataframe tbody tr th:only-of-type {\n",
              "        vertical-align: middle;\n",
              "    }\n",
              "\n",
              "    .dataframe tbody tr th {\n",
              "        vertical-align: top;\n",
              "    }\n",
              "\n",
              "    .dataframe thead th {\n",
              "        text-align: right;\n",
              "    }\n",
              "</style>\n",
              "<table border=\"1\" class=\"dataframe\">\n",
              "  <thead>\n",
              "    <tr style=\"text-align: right;\">\n",
              "      <th></th>\n",
              "      <th>time</th>\n",
              "      <th>fcst</th>\n",
              "      <th>fcst_lower</th>\n",
              "      <th>fcst_upper</th>\n",
              "    </tr>\n",
              "  </thead>\n",
              "  <tbody>\n",
              "    <tr>\n",
              "      <th>0</th>\n",
              "      <td>2014-11-02</td>\n",
              "      <td>100.477979</td>\n",
              "      <td>-1948.078014</td>\n",
              "      <td>2020.033974</td>\n",
              "    </tr>\n",
              "    <tr>\n",
              "      <th>1</th>\n",
              "      <td>2014-11-03</td>\n",
              "      <td>100.366334</td>\n",
              "      <td>-2050.732440</td>\n",
              "      <td>2014.143528</td>\n",
              "    </tr>\n",
              "    <tr>\n",
              "      <th>2</th>\n",
              "      <td>2014-11-04</td>\n",
              "      <td>100.533908</td>\n",
              "      <td>-1900.069011</td>\n",
              "      <td>2210.730273</td>\n",
              "    </tr>\n",
              "    <tr>\n",
              "      <th>3</th>\n",
              "      <td>2014-11-05</td>\n",
              "      <td>100.078650</td>\n",
              "      <td>-1948.428324</td>\n",
              "      <td>2137.642557</td>\n",
              "    </tr>\n",
              "    <tr>\n",
              "      <th>4</th>\n",
              "      <td>2014-11-06</td>\n",
              "      <td>101.371062</td>\n",
              "      <td>-1937.311207</td>\n",
              "      <td>2128.023726</td>\n",
              "    </tr>\n",
              "    <tr>\n",
              "      <th>5</th>\n",
              "      <td>2014-11-07</td>\n",
              "      <td>100.766892</td>\n",
              "      <td>-1782.054259</td>\n",
              "      <td>2138.806242</td>\n",
              "    </tr>\n",
              "    <tr>\n",
              "      <th>6</th>\n",
              "      <td>2014-11-08</td>\n",
              "      <td>101.996420</td>\n",
              "      <td>-1980.782147</td>\n",
              "      <td>2296.454414</td>\n",
              "    </tr>\n",
              "    <tr>\n",
              "      <th>7</th>\n",
              "      <td>2014-11-09</td>\n",
              "      <td>102.773991</td>\n",
              "      <td>-1879.018874</td>\n",
              "      <td>2230.720342</td>\n",
              "    </tr>\n",
              "    <tr>\n",
              "      <th>8</th>\n",
              "      <td>2014-11-10</td>\n",
              "      <td>103.027023</td>\n",
              "      <td>-1799.212598</td>\n",
              "      <td>1962.218218</td>\n",
              "    </tr>\n",
              "    <tr>\n",
              "      <th>9</th>\n",
              "      <td>2014-11-11</td>\n",
              "      <td>103.665574</td>\n",
              "      <td>-1978.564787</td>\n",
              "      <td>2033.804404</td>\n",
              "    </tr>\n",
              "  </tbody>\n",
              "</table>\n",
              "</div>"
            ],
            "text/plain": [
              "        time        fcst   fcst_lower   fcst_upper\n",
              "0 2014-11-02  100.477979 -1948.078014  2020.033974\n",
              "1 2014-11-03  100.366334 -2050.732440  2014.143528\n",
              "2 2014-11-04  100.533908 -1900.069011  2210.730273\n",
              "3 2014-11-05  100.078650 -1948.428324  2137.642557\n",
              "4 2014-11-06  101.371062 -1937.311207  2128.023726\n",
              "5 2014-11-07  100.766892 -1782.054259  2138.806242\n",
              "6 2014-11-08  101.996420 -1980.782147  2296.454414\n",
              "7 2014-11-09  102.773991 -1879.018874  2230.720342\n",
              "8 2014-11-10  103.027023 -1799.212598  1962.218218\n",
              "9 2014-11-11  103.665574 -1978.564787  2033.804404"
            ]
          },
          "metadata": {},
          "execution_count": 187
        }
      ]
    },
    {
      "cell_type": "markdown",
      "metadata": {
        "id": "Vjry8BspjFrj"
      },
      "source": [
        "The above shows the simple implementation of the Kat's library. And we have used a Prophet model with multiplicative seasonlity. \n",
        "\n",
        "Feel free to play with other parameters as well. \n",
        "\n",
        "Next we will look into creating a ensemble of models using the Kat's library. We can achieve this by using `KatEnsemble`, it will be kinda similar to how scikit-learn works. "
      ]
    },
    {
      "cell_type": "code",
      "metadata": {
        "id": "4tP71FtbZZS3"
      },
      "source": [
        "# Importing the things we need \n",
        "from kats.models.ensemble.ensemble import EnsembleParams , BaseModelParams \n",
        "from kats.models.ensemble.kats_ensemble import KatsEnsemble\n",
        "from kats.models import (\n",
        "    arima, \n",
        "    holtwinters , \n",
        "    linear_model , \n",
        "    prophet , \n",
        "    quadratic_model , \n",
        "    sarima , \n",
        "    theta\n",
        ")"
      ],
      "execution_count": 188,
      "outputs": []
    },
    {
      "cell_type": "markdown",
      "metadata": {
        "id": "XL_oYp-7ZxUo"
      },
      "source": [
        "On the next step we will define parameters for each individual forecasting model using the `EnsembleParams` class. "
      ]
    },
    {
      "cell_type": "code",
      "metadata": {
        "id": "GZLW0KdWZ4ji"
      },
      "source": [
        "# Defining the parameters of different models \n",
        "model_params = EnsembleParams(\n",
        "    [\n",
        "     BaseModelParams('arima' , arima.ARIMAParams(p = 1 , d=1 , q=1)) , \n",
        "     BaseModelParams('sarima' ,\n",
        "                     sarima.SARIMAParams(\n",
        "                         p = 2 , d= 2 , q =1 , trend = 'ct' , \n",
        "                     seasonal_order = (1, 0 ,1 ,12) , enforce_invertibility = False , \n",
        "                     enforce_stationarity = False),\n",
        "     ),\n",
        "     BaseModelParams('prophet' , prophet.ProphetParams()) , \n",
        "     BaseModelParams('linear' , linear_model.LinearModelParams()) , \n",
        "     BaseModelParams('quadratic' , quadratic_model.QuadraticModelParams()),\n",
        "     BaseModelParams('theta' , theta.ThetaParams()), \n",
        "    ]\n",
        ")"
      ],
      "execution_count": 189,
      "outputs": []
    },
    {
      "cell_type": "code",
      "metadata": {
        "id": "SyE-sW09bWqJ"
      },
      "source": [
        "# Creating KatEnsembleParam with detailed configuration \n",
        "KatEnsembleParams = {\n",
        "    'models': model_params , \n",
        "    'aggregation': 'median' , \n",
        "    'seasonality_length': 7 , \n",
        "    'decomposition_method': 'multiplicative'\n",
        "}"
      ],
      "execution_count": 190,
      "outputs": []
    },
    {
      "cell_type": "code",
      "metadata": {
        "id": "IlX7gB4DcbY1"
      },
      "source": [
        "# Creating a Time Series dataset \n",
        "bitcoin_ts = TimeSeriesData(value = bitcoin_prices.Price,\n",
        "                            time = bitcoin_prices.index , \n",
        "                            sort_by_time= True)"
      ],
      "execution_count": 191,
      "outputs": []
    },
    {
      "cell_type": "code",
      "metadata": {
        "colab": {
          "base_uri": "https://localhost:8080/"
        },
        "id": "RQdLi-tGcL9t",
        "outputId": "5eeb20a3-6c11-495c-ac37-cea2faac5395"
      },
      "source": [
        "# Creating a KatEnsemble model (or) instantiating it \n",
        "ensemble_model = KatsEnsemble(\n",
        "    data = bitcoin_ts , \n",
        "    params = KatEnsembleParams\n",
        ")\n",
        "\n",
        "# Fitting the model \n",
        "ensemble_model.fit()"
      ],
      "execution_count": 192,
      "outputs": [
        {
          "output_type": "stream",
          "name": "stderr",
          "text": [
            "/usr/local/lib/python3.7/dist-packages/statsmodels/tsa/stattools.py:671: FutureWarning:\n",
            "\n",
            "fft=True will become the default after the release of the 0.12 release of statsmodels. To suppress this warning, explicitly set fft=False.\n",
            "\n",
            "/usr/local/lib/python3.7/dist-packages/statsmodels/tsa/arima_model.py:472: FutureWarning:\n",
            "\n",
            "\n",
            "statsmodels.tsa.arima_model.ARMA and statsmodels.tsa.arima_model.ARIMA have\n",
            "been deprecated in favor of statsmodels.tsa.arima.model.ARIMA (note the .\n",
            "between arima and model) and\n",
            "statsmodels.tsa.SARIMAX. These will be removed after the 0.12 release.\n",
            "\n",
            "statsmodels.tsa.arima.model.ARIMA makes use of the statespace framework and\n",
            "is both well tested and maintained.\n",
            "\n",
            "To silence this warning and continue using ARMA and ARIMA until they are\n",
            "removed, use:\n",
            "\n",
            "import warnings\n",
            "warnings.filterwarnings('ignore', 'statsmodels.tsa.arima_model.ARMA',\n",
            "                        FutureWarning)\n",
            "warnings.filterwarnings('ignore', 'statsmodels.tsa.arima_model.ARIMA',\n",
            "                        FutureWarning)\n",
            "\n",
            "\n",
            "/usr/local/lib/python3.7/dist-packages/statsmodels/tsa/base/tsa_model.py:527: ValueWarning:\n",
            "\n",
            "No frequency information was provided, so inferred frequency D will be used.\n",
            "\n",
            "/usr/local/lib/python3.7/dist-packages/statsmodels/tsa/base/tsa_model.py:527: ValueWarning:\n",
            "\n",
            "No frequency information was provided, so inferred frequency D will be used.\n",
            "\n",
            "/usr/local/lib/python3.7/dist-packages/statsmodels/tsa/arima_model.py:472: FutureWarning:\n",
            "\n",
            "\n",
            "statsmodels.tsa.arima_model.ARMA and statsmodels.tsa.arima_model.ARIMA have\n",
            "been deprecated in favor of statsmodels.tsa.arima.model.ARIMA (note the .\n",
            "between arima and model) and\n",
            "statsmodels.tsa.SARIMAX. These will be removed after the 0.12 release.\n",
            "\n",
            "statsmodels.tsa.arima.model.ARIMA makes use of the statespace framework and\n",
            "is both well tested and maintained.\n",
            "\n",
            "To silence this warning and continue using ARMA and ARIMA until they are\n",
            "removed, use:\n",
            "\n",
            "import warnings\n",
            "warnings.filterwarnings('ignore', 'statsmodels.tsa.arima_model.ARMA',\n",
            "                        FutureWarning)\n",
            "warnings.filterwarnings('ignore', 'statsmodels.tsa.arima_model.ARIMA',\n",
            "                        FutureWarning)\n",
            "\n",
            "\n",
            "/usr/local/lib/python3.7/dist-packages/statsmodels/tsa/arima_model.py:472: FutureWarning:\n",
            "\n",
            "\n",
            "statsmodels.tsa.arima_model.ARMA and statsmodels.tsa.arima_model.ARIMA have\n",
            "been deprecated in favor of statsmodels.tsa.arima.model.ARIMA (note the .\n",
            "between arima and model) and\n",
            "statsmodels.tsa.SARIMAX. These will be removed after the 0.12 release.\n",
            "\n",
            "statsmodels.tsa.arima.model.ARIMA makes use of the statespace framework and\n",
            "is both well tested and maintained.\n",
            "\n",
            "To silence this warning and continue using ARMA and ARIMA until they are\n",
            "removed, use:\n",
            "\n",
            "import warnings\n",
            "warnings.filterwarnings('ignore', 'statsmodels.tsa.arima_model.ARMA',\n",
            "                        FutureWarning)\n",
            "warnings.filterwarnings('ignore', 'statsmodels.tsa.arima_model.ARIMA',\n",
            "                        FutureWarning)\n",
            "\n",
            "\n",
            "/usr/local/lib/python3.7/dist-packages/statsmodels/base/model.py:568: ConvergenceWarning:\n",
            "\n",
            "Maximum Likelihood optimization failed to converge. Check mle_retvals\n",
            "\n",
            "INFO:fbprophet:Disabling daily seasonality. Run prophet with daily_seasonality=True to override this.\n",
            "/usr/local/lib/python3.7/dist-packages/statsmodels/tsa/holtwinters/model.py:429: FutureWarning:\n",
            "\n",
            "After 0.13 initialization must be handled at model creation\n",
            "\n",
            "/usr/local/lib/python3.7/dist-packages/statsmodels/tsa/holtwinters/model.py:922: ConvergenceWarning:\n",
            "\n",
            "Optimization failed to converge. Check mle_retvals.\n",
            "\n",
            "/usr/local/lib/python3.7/dist-packages/kats/models/theta.py:121: FutureWarning:\n",
            "\n",
            "`rcond` parameter will change to the default of machine precision times ``max(M, N)`` where M and N are the input matrix dimensions.\n",
            "To use the future default and silence this warning we advise to pass `rcond=None`, to keep using the old, explicitly pass `rcond=-1`.\n",
            "\n",
            "INFO:fbprophet:Disabling daily seasonality. Run prophet with daily_seasonality=True to override this.\n",
            "/usr/local/lib/python3.7/dist-packages/statsmodels/tsa/holtwinters/model.py:429: FutureWarning:\n",
            "\n",
            "After 0.13 initialization must be handled at model creation\n",
            "\n",
            "/usr/local/lib/python3.7/dist-packages/statsmodels/tsa/holtwinters/model.py:922: ConvergenceWarning:\n",
            "\n",
            "Optimization failed to converge. Check mle_retvals.\n",
            "\n",
            "/usr/local/lib/python3.7/dist-packages/kats/models/theta.py:121: FutureWarning:\n",
            "\n",
            "`rcond` parameter will change to the default of machine precision times ``max(M, N)`` where M and N are the input matrix dimensions.\n",
            "To use the future default and silence this warning we advise to pass `rcond=None`, to keep using the old, explicitly pass `rcond=-1`.\n",
            "\n",
            "/usr/local/lib/python3.7/dist-packages/statsmodels/tsa/arima_model.py:472: FutureWarning:\n",
            "\n",
            "\n",
            "statsmodels.tsa.arima_model.ARMA and statsmodels.tsa.arima_model.ARIMA have\n",
            "been deprecated in favor of statsmodels.tsa.arima.model.ARIMA (note the .\n",
            "between arima and model) and\n",
            "statsmodels.tsa.SARIMAX. These will be removed after the 0.12 release.\n",
            "\n",
            "statsmodels.tsa.arima.model.ARIMA makes use of the statespace framework and\n",
            "is both well tested and maintained.\n",
            "\n",
            "To silence this warning and continue using ARMA and ARIMA until they are\n",
            "removed, use:\n",
            "\n",
            "import warnings\n",
            "warnings.filterwarnings('ignore', 'statsmodels.tsa.arima_model.ARMA',\n",
            "                        FutureWarning)\n",
            "warnings.filterwarnings('ignore', 'statsmodels.tsa.arima_model.ARIMA',\n",
            "                        FutureWarning)\n",
            "\n",
            "\n"
          ]
        },
        {
          "output_type": "execute_result",
          "data": {
            "text/plain": [
              "<kats.models.ensemble.kats_ensemble.KatsEnsemble at 0x7f5112273d50>"
            ]
          },
          "metadata": {},
          "execution_count": 192
        }
      ]
    },
    {
      "cell_type": "code",
      "metadata": {
        "id": "a2-IfczBc-pX"
      },
      "source": [
        "# Making prediction for the next 30 days \n",
        "forecast = ensemble_model.predict(steps = 30) "
      ],
      "execution_count": 193,
      "outputs": []
    },
    {
      "cell_type": "code",
      "metadata": {
        "colab": {
          "base_uri": "https://localhost:8080/",
          "height": 979
        },
        "id": "E0uPDVYKdACp",
        "outputId": "83caf929-4a27-452b-a073-39eda30b7b20"
      },
      "source": [
        "# Aggregate individual model results (we will get the predictions for 30 Days)\n",
        "ensemble_model.aggregate()"
      ],
      "execution_count": 194,
      "outputs": [
        {
          "output_type": "execute_result",
          "data": {
            "text/html": [
              "<div>\n",
              "<style scoped>\n",
              "    .dataframe tbody tr th:only-of-type {\n",
              "        vertical-align: middle;\n",
              "    }\n",
              "\n",
              "    .dataframe tbody tr th {\n",
              "        vertical-align: top;\n",
              "    }\n",
              "\n",
              "    .dataframe thead th {\n",
              "        text-align: right;\n",
              "    }\n",
              "</style>\n",
              "<table border=\"1\" class=\"dataframe\">\n",
              "  <thead>\n",
              "    <tr style=\"text-align: right;\">\n",
              "      <th></th>\n",
              "      <th>time</th>\n",
              "      <th>fcst</th>\n",
              "      <th>fcst_lower</th>\n",
              "      <th>fcst_upper</th>\n",
              "    </tr>\n",
              "  </thead>\n",
              "  <tbody>\n",
              "    <tr>\n",
              "      <th>0</th>\n",
              "      <td>2021-05-19</td>\n",
              "      <td>42682.033343</td>\n",
              "      <td>38885.538435</td>\n",
              "      <td>44922.406883</td>\n",
              "    </tr>\n",
              "    <tr>\n",
              "      <th>1</th>\n",
              "      <td>2021-05-20</td>\n",
              "      <td>42073.837817</td>\n",
              "      <td>38406.420610</td>\n",
              "      <td>44889.006611</td>\n",
              "    </tr>\n",
              "    <tr>\n",
              "      <th>2</th>\n",
              "      <td>2021-05-21</td>\n",
              "      <td>41435.525715</td>\n",
              "      <td>37349.861803</td>\n",
              "      <td>44081.146809</td>\n",
              "    </tr>\n",
              "    <tr>\n",
              "      <th>3</th>\n",
              "      <td>2021-05-22</td>\n",
              "      <td>42372.449040</td>\n",
              "      <td>38075.124972</td>\n",
              "      <td>45665.318988</td>\n",
              "    </tr>\n",
              "    <tr>\n",
              "      <th>4</th>\n",
              "      <td>2021-05-23</td>\n",
              "      <td>42414.698328</td>\n",
              "      <td>37938.263973</td>\n",
              "      <td>45973.660794</td>\n",
              "    </tr>\n",
              "    <tr>\n",
              "      <th>5</th>\n",
              "      <td>2021-05-24</td>\n",
              "      <td>41846.072376</td>\n",
              "      <td>37104.568033</td>\n",
              "      <td>45932.084718</td>\n",
              "    </tr>\n",
              "    <tr>\n",
              "      <th>6</th>\n",
              "      <td>2021-05-25</td>\n",
              "      <td>40862.114676</td>\n",
              "      <td>35997.432699</td>\n",
              "      <td>45016.413893</td>\n",
              "    </tr>\n",
              "    <tr>\n",
              "      <th>7</th>\n",
              "      <td>2021-05-26</td>\n",
              "      <td>41480.060326</td>\n",
              "      <td>36543.312256</td>\n",
              "      <td>46304.086241</td>\n",
              "    </tr>\n",
              "    <tr>\n",
              "      <th>8</th>\n",
              "      <td>2021-05-27</td>\n",
              "      <td>40962.347097</td>\n",
              "      <td>35964.142733</td>\n",
              "      <td>46216.077329</td>\n",
              "    </tr>\n",
              "    <tr>\n",
              "      <th>9</th>\n",
              "      <td>2021-05-28</td>\n",
              "      <td>40474.565032</td>\n",
              "      <td>35320.389075</td>\n",
              "      <td>45342.487118</td>\n",
              "    </tr>\n",
              "    <tr>\n",
              "      <th>10</th>\n",
              "      <td>2021-05-29</td>\n",
              "      <td>41293.389751</td>\n",
              "      <td>36112.047001</td>\n",
              "      <td>46942.808074</td>\n",
              "    </tr>\n",
              "    <tr>\n",
              "      <th>11</th>\n",
              "      <td>2021-05-30</td>\n",
              "      <td>41405.318369</td>\n",
              "      <td>36041.372511</td>\n",
              "      <td>47154.853220</td>\n",
              "    </tr>\n",
              "    <tr>\n",
              "      <th>12</th>\n",
              "      <td>2021-05-31</td>\n",
              "      <td>41234.926705</td>\n",
              "      <td>35414.819467</td>\n",
              "      <td>47151.659016</td>\n",
              "    </tr>\n",
              "    <tr>\n",
              "      <th>13</th>\n",
              "      <td>2021-06-01</td>\n",
              "      <td>40704.306803</td>\n",
              "      <td>34423.904104</td>\n",
              "      <td>46177.863404</td>\n",
              "    </tr>\n",
              "    <tr>\n",
              "      <th>14</th>\n",
              "      <td>2021-06-02</td>\n",
              "      <td>41331.363397</td>\n",
              "      <td>35139.786268</td>\n",
              "      <td>47248.512299</td>\n",
              "    </tr>\n",
              "    <tr>\n",
              "      <th>15</th>\n",
              "      <td>2021-06-03</td>\n",
              "      <td>41191.421801</td>\n",
              "      <td>35001.974606</td>\n",
              "      <td>47332.845269</td>\n",
              "    </tr>\n",
              "    <tr>\n",
              "      <th>16</th>\n",
              "      <td>2021-06-04</td>\n",
              "      <td>40800.244025</td>\n",
              "      <td>34843.088881</td>\n",
              "      <td>46315.547180</td>\n",
              "    </tr>\n",
              "    <tr>\n",
              "      <th>17</th>\n",
              "      <td>2021-06-05</td>\n",
              "      <td>41652.352179</td>\n",
              "      <td>35419.608320</td>\n",
              "      <td>48014.479939</td>\n",
              "    </tr>\n",
              "    <tr>\n",
              "      <th>18</th>\n",
              "      <td>2021-06-06</td>\n",
              "      <td>41841.715299</td>\n",
              "      <td>35424.215241</td>\n",
              "      <td>47876.952866</td>\n",
              "    </tr>\n",
              "    <tr>\n",
              "      <th>19</th>\n",
              "      <td>2021-06-07</td>\n",
              "      <td>41714.089318</td>\n",
              "      <td>35306.987226</td>\n",
              "      <td>48039.497012</td>\n",
              "    </tr>\n",
              "    <tr>\n",
              "      <th>20</th>\n",
              "      <td>2021-06-08</td>\n",
              "      <td>41215.961246</td>\n",
              "      <td>35131.627620</td>\n",
              "      <td>46975.012645</td>\n",
              "    </tr>\n",
              "    <tr>\n",
              "      <th>21</th>\n",
              "      <td>2021-06-09</td>\n",
              "      <td>41884.488527</td>\n",
              "      <td>35425.986177</td>\n",
              "      <td>47842.978347</td>\n",
              "    </tr>\n",
              "    <tr>\n",
              "      <th>22</th>\n",
              "      <td>2021-06-10</td>\n",
              "      <td>41769.866631</td>\n",
              "      <td>35470.578074</td>\n",
              "      <td>48019.984275</td>\n",
              "    </tr>\n",
              "    <tr>\n",
              "      <th>23</th>\n",
              "      <td>2021-06-11</td>\n",
              "      <td>41206.294717</td>\n",
              "      <td>35277.111413</td>\n",
              "      <td>47115.723018</td>\n",
              "    </tr>\n",
              "    <tr>\n",
              "      <th>24</th>\n",
              "      <td>2021-06-12</td>\n",
              "      <td>42273.524324</td>\n",
              "      <td>35754.302566</td>\n",
              "      <td>48376.336005</td>\n",
              "    </tr>\n",
              "    <tr>\n",
              "      <th>25</th>\n",
              "      <td>2021-06-13</td>\n",
              "      <td>42474.722854</td>\n",
              "      <td>36099.065313</td>\n",
              "      <td>48640.835656</td>\n",
              "    </tr>\n",
              "    <tr>\n",
              "      <th>26</th>\n",
              "      <td>2021-06-14</td>\n",
              "      <td>42348.441880</td>\n",
              "      <td>35827.027290</td>\n",
              "      <td>48788.428983</td>\n",
              "    </tr>\n",
              "    <tr>\n",
              "      <th>27</th>\n",
              "      <td>2021-06-15</td>\n",
              "      <td>41591.303804</td>\n",
              "      <td>35416.480870</td>\n",
              "      <td>47620.748960</td>\n",
              "    </tr>\n",
              "    <tr>\n",
              "      <th>28</th>\n",
              "      <td>2021-06-16</td>\n",
              "      <td>42512.725765</td>\n",
              "      <td>36323.868418</td>\n",
              "      <td>48846.410214</td>\n",
              "    </tr>\n",
              "    <tr>\n",
              "      <th>29</th>\n",
              "      <td>2021-06-17</td>\n",
              "      <td>42385.342710</td>\n",
              "      <td>36125.284808</td>\n",
              "      <td>48745.960681</td>\n",
              "    </tr>\n",
              "  </tbody>\n",
              "</table>\n",
              "</div>"
            ],
            "text/plain": [
              "         time          fcst    fcst_lower    fcst_upper\n",
              "0  2021-05-19  42682.033343  38885.538435  44922.406883\n",
              "1  2021-05-20  42073.837817  38406.420610  44889.006611\n",
              "2  2021-05-21  41435.525715  37349.861803  44081.146809\n",
              "3  2021-05-22  42372.449040  38075.124972  45665.318988\n",
              "4  2021-05-23  42414.698328  37938.263973  45973.660794\n",
              "5  2021-05-24  41846.072376  37104.568033  45932.084718\n",
              "6  2021-05-25  40862.114676  35997.432699  45016.413893\n",
              "7  2021-05-26  41480.060326  36543.312256  46304.086241\n",
              "8  2021-05-27  40962.347097  35964.142733  46216.077329\n",
              "9  2021-05-28  40474.565032  35320.389075  45342.487118\n",
              "10 2021-05-29  41293.389751  36112.047001  46942.808074\n",
              "11 2021-05-30  41405.318369  36041.372511  47154.853220\n",
              "12 2021-05-31  41234.926705  35414.819467  47151.659016\n",
              "13 2021-06-01  40704.306803  34423.904104  46177.863404\n",
              "14 2021-06-02  41331.363397  35139.786268  47248.512299\n",
              "15 2021-06-03  41191.421801  35001.974606  47332.845269\n",
              "16 2021-06-04  40800.244025  34843.088881  46315.547180\n",
              "17 2021-06-05  41652.352179  35419.608320  48014.479939\n",
              "18 2021-06-06  41841.715299  35424.215241  47876.952866\n",
              "19 2021-06-07  41714.089318  35306.987226  48039.497012\n",
              "20 2021-06-08  41215.961246  35131.627620  46975.012645\n",
              "21 2021-06-09  41884.488527  35425.986177  47842.978347\n",
              "22 2021-06-10  41769.866631  35470.578074  48019.984275\n",
              "23 2021-06-11  41206.294717  35277.111413  47115.723018\n",
              "24 2021-06-12  42273.524324  35754.302566  48376.336005\n",
              "25 2021-06-13  42474.722854  36099.065313  48640.835656\n",
              "26 2021-06-14  42348.441880  35827.027290  48788.428983\n",
              "27 2021-06-15  41591.303804  35416.480870  47620.748960\n",
              "28 2021-06-16  42512.725765  36323.868418  48846.410214\n",
              "29 2021-06-17  42385.342710  36125.284808  48745.960681"
            ]
          },
          "metadata": {},
          "execution_count": 194
        }
      ]
    },
    {
      "cell_type": "code",
      "metadata": {
        "colab": {
          "base_uri": "https://localhost:8080/",
          "height": 441
        },
        "id": "7cmueWTgdzE_",
        "outputId": "0b7d36cc-b50e-4159-a3f8-19df92016aa6"
      },
      "source": [
        "# Plotting the model \n",
        "ensemble_model.plot()"
      ],
      "execution_count": 195,
      "outputs": [
        {
          "output_type": "display_data",
          "data": {
            "image/png": "[encoded data removed]",
            "text/plain": [
              "<Figure size 720x432 with 1 Axes>"
            ]
          },
          "metadata": {}
        }
      ]
    },
    {
      "cell_type": "code",
      "metadata": {
        "id": "Ijknhx20evcK"
      },
      "source": [
        ""
      ],
      "execution_count": 195,
      "outputs": []
    }
  ]
}